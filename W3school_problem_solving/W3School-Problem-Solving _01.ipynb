{
 "cells": [
  {
   "cell_type": "markdown",
   "id": "be15de49",
   "metadata": {},
   "source": [
    "# W3School Python Problem Solving: List, Set, Tuples, Dictionary, List Advanced\n",
    "    \n",
    "In this task, I have completed and solved several basic level python coding problem with the help of different methods, control flow, user-defined functions, and object oriented mechanism as well as built-in methods in Python. The exercises in this task cover a range of basic Python programming concepts, including sets, lists, dictionaries, and tuples. Each section of the exercise set provides a list of problems to solve, along with sample input and output to help guide you as you write your code.\n",
    "\n",
    "In the Lists section, it discussed learn how to work with lists in Python, including how to create lists, add and remove elements from lists, and perform operations like sorting and reversing lists.\n",
    "\n",
    "In the Sets section, it discussed how to work with sets in Python, including how to create sets, add and remove elements from sets, and perform operations like union, intersection, and difference on sets.\n",
    "\n",
    "In the Tuples section, it discussed how to work with tuples in Python, including how to create tuples, access and modify tuple elements, and perform operations like unpacking and slicing tuples.\n",
    "\n",
    "In the Dictionaries section, it discussed how to work with dictionaries in Python, including how to create dictionaries, add and remove key-value pairs from dictionaries, and perform operations like iterating over keys and values in dictionaries.\n",
    "\n",
    "All the problems are situated in the W3School website. I have asserted all the questionnaires regarding to the python problem solving with reference materials below:\n",
    "\n",
    "1. https://www.w3resource.com/python-exercises/sets/\n",
    "2. https://www.w3resource.com/python-exercises/list/\n",
    "3. https://www.w3resource.com/python-exercises/dictionary/\n",
    "4. https://www.w3resource.com/python-exercises/tuple/\n",
    "5. https://www.w3resource.com/python-exercises/list-advanced/index.php"
   ]
  },
  {
   "cell_type": "markdown",
   "id": "499a9fb5",
   "metadata": {},
   "source": [
    "# **** Example 1: Lists"
   ]
  },
  {
   "cell_type": "markdown",
   "id": "50ba56df",
   "metadata": {},
   "source": [
    "## 1. Write a Python program to sum all the items in a list."
   ]
  },
  {
   "cell_type": "code",
   "execution_count": 2,
   "id": "45f4ee39",
   "metadata": {},
   "outputs": [
    {
     "name": "stdout",
     "output_type": "stream",
     "text": [
      "Sum of all Items:  476\n",
      "\n",
      "The 1th number is 23. Total is 23\n",
      "\n",
      "The 2th number is 34. Total is 57\n",
      "\n",
      "The 3th number is 45. Total is 102\n",
      "\n",
      "The 4th number is 65. Total is 167\n",
      "\n",
      "The 5th number is 67. Total is 234\n",
      "\n",
      "The 6th number is 89. Total is 323\n",
      "\n",
      "The 7th number is 76. Total is 399\n",
      "\n",
      "The 8th number is 43. Total is 442\n",
      "\n",
      "The 9th number is 22. Total is 464\n",
      "\n",
      "The 10th number is 12. Total is 476\n",
      "476\n",
      "[23, 57, 102, 167, 234, 323, 399, 442, 464, 476]\n"
     ]
    }
   ],
   "source": [
    "def sum_list(number):\n",
    "    total = 0\n",
    "    for num in number:\n",
    "        total += num\n",
    "    return total\n",
    "\n",
    "number = [23,34,45,65,67,89,76,43,22,12]\n",
    "print(\"Sum of all Items: \", sum_list(number))\n",
    "\n",
    "# Alternative version\n",
    "\n",
    "number = [23,34,45,65,67,89,76,43,22,12]\n",
    "total = 0\n",
    "\n",
    "for i, num in enumerate(number): # Iterating with using indexing position using enumerate\n",
    "    total += num\n",
    "    print(f\"\\nThe {i+1}th number is {num}. Total is {total}\")\n",
    "    \n",
    "print(total)\n",
    "\n",
    "# Another One: Listing the every ith number sum value into a list\n",
    "\n",
    "running_totals = []\n",
    "\n",
    "total = 0\n",
    "for num in number:\n",
    "    total += num\n",
    "    running_totals.append(total)\n",
    "    \n",
    "    \n",
    "print(running_totals)"
   ]
  },
  {
   "cell_type": "markdown",
   "id": "f3b4d082",
   "metadata": {},
   "source": [
    "## 2. Write a Python program to multiply all the items in a list."
   ]
  },
  {
   "cell_type": "code",
   "execution_count": 4,
   "id": "351d1ef3",
   "metadata": {},
   "outputs": [
    {
     "name": "stdout",
     "output_type": "stream",
     "text": [
      "Mulipilcation of list elements together:  11767478339073600\n"
     ]
    }
   ],
   "source": [
    "def mul_list(number):\n",
    "    total = 1\n",
    "    for num in number:\n",
    "        total *= num\n",
    "    return total\n",
    "\n",
    "print(\"Mulipilcation of list elements together: \", mul_list(number))"
   ]
  },
  {
   "cell_type": "markdown",
   "id": "7fefa760",
   "metadata": {},
   "source": [
    "## 3. Write a Python program to get the largest number from a list"
   ]
  },
  {
   "cell_type": "code",
   "execution_count": 5,
   "id": "50dabe68",
   "metadata": {},
   "outputs": [
    {
     "name": "stdout",
     "output_type": "stream",
     "text": [
      "Largest Number Given in a list:  89\n"
     ]
    }
   ],
   "source": [
    "def get_largest(number):\n",
    "    largest = number[0]\n",
    "    for num in number:\n",
    "        if num > largest:\n",
    "            largest = num\n",
    "    return largest\n",
    "\n",
    "print(\"Largest Number Given in a list: \", get_largest(number))  # output: 87\n"
   ]
  },
  {
   "cell_type": "markdown",
   "id": "ce1ddd42",
   "metadata": {},
   "source": [
    "## 4. Write a Python program to get the smallest number from a list."
   ]
  },
  {
   "cell_type": "code",
   "execution_count": 6,
   "id": "49645096",
   "metadata": {},
   "outputs": [
    {
     "name": "stdout",
     "output_type": "stream",
     "text": [
      "Smallest number of a given list among the elements:  12\n"
     ]
    }
   ],
   "source": [
    "def get_smallest(number):\n",
    "    smallest = number[0]\n",
    "    for num in number:\n",
    "        if num < smallest:\n",
    "            smallest = num\n",
    "    return smallest\n",
    "print(\"Smallest number of a given list among the elements: \", get_smallest(number))"
   ]
  },
  {
   "cell_type": "markdown",
   "id": "970389d5",
   "metadata": {},
   "source": [
    "## 5. Write a Python program to count the number of strings from a given list of strings. The string length is 2 or more and the first and last characters are the same. "
   ]
  },
  {
   "cell_type": "code",
   "execution_count": 11,
   "id": "1ad1209c",
   "metadata": {},
   "outputs": [
    {
     "name": "stdout",
     "output_type": "stream",
     "text": [
      "Number of Strings Satisfying the condition:  2\n",
      "Number of Strings Satisfying the condition:  3\n",
      "Strings Satisfying the condition:  ['lahul', 'oragoto', '1221']\n"
     ]
    }
   ],
   "source": [
    "string_list = ['abc', 'xyz', 'aba', '1221']\n",
    "\n",
    "count = 0   # define a variable 'count' to keep track of the number of strings \n",
    "\n",
    "for string in string_list:\n",
    "    if len(string) >= 2 and string[0] == string[-1]: # if length greater than or equal 2 and first and last characters are the same\n",
    "        count += 1\n",
    "print(\"Number of Strings Satisfying the condition: \", count)\n",
    "\n",
    "##########################\n",
    "\n",
    "def name_words(words):\n",
    "    strcount = 0\n",
    "    strlist = []\n",
    "    for word in words:\n",
    "        if len(word) >= 2 and word[0] == word[-1]:\n",
    "            strcount += 1\n",
    "            strlist.append(word)\n",
    "    return strcount, strlist\n",
    "\n",
    "words = [\"rehman\", \"lahul\", \"oragoto\", \"1221\", \"Mohua\"]\n",
    "count, strlist = name_words(words)\n",
    "\n",
    "print(\"Number of Strings Satisfying the condition: \", count)\n",
    "print(\"Strings Satisfying the condition: \", strlist)\n"
   ]
  },
  {
   "cell_type": "code",
   "execution_count": 94,
   "id": "6d9f8af6",
   "metadata": {},
   "outputs": [
    {
     "name": "stdout",
     "output_type": "stream",
     "text": [
      "['aba', '1221']\n",
      "Number of Strings Satisfying the condition:  2\n",
      "Number of Strings Satisfying the condition:  2\n"
     ]
    }
   ],
   "source": [
    "# Another version\n",
    "\n",
    "string_list = ['abc', 'xyz', 'aba', '1221']\n",
    "\n",
    "count = 0\n",
    "lists = []\n",
    "for string in string_list:\n",
    "    if len(string) >= 2 and string[0] == string[-1]:\n",
    "        count += 1\n",
    "        lists.append(string)\n",
    "print(lists)\n",
    "\n",
    "print(\"Number of Strings Satisfying the condition: \", count)\n",
    "print(\"Number of Strings Satisfying the condition: \", string[1]) # Last element of 1221 with second index\n"
   ]
  },
  {
   "cell_type": "markdown",
   "id": "dc2ceb91",
   "metadata": {},
   "source": [
    "## 6. Write a Python program to get a list, sorted in increasing order by the last element in each tuple from a given list of non-empty tuples. \n",
    "Sample List : [(2, 5), (1, 2), (4, 4), (2, 3), (2, 1)]\n",
    "Expected Result : [(2, 1), (1, 2), (2, 3), (4, 4), (2, 5)]"
   ]
  },
  {
   "cell_type": "code",
   "execution_count": 95,
   "id": "7382d139",
   "metadata": {},
   "outputs": [
    {
     "name": "stdout",
     "output_type": "stream",
     "text": [
      "sorted List:  [(2, 1), (1, 2), (2, 3), (4, 4), (2, 5)]\n"
     ]
    }
   ],
   "source": [
    "tuples = [(2, 5), (1, 2), (4, 4), (2, 3), (2, 1)]\n",
    "sorted_list = sorted(tuples, key=lambda x: x[-1])\n",
    "print(\"sorted List: \", sorted_list)"
   ]
  },
  {
   "cell_type": "markdown",
   "id": "96049127",
   "metadata": {},
   "source": [
    "## 7. Write a Python program to remove duplicates from a list."
   ]
  },
  {
   "cell_type": "code",
   "execution_count": 25,
   "id": "1576e053",
   "metadata": {},
   "outputs": [
    {
     "name": "stdout",
     "output_type": "stream",
     "text": [
      "{34, 43, 45, 21, 22, 23}\n",
      "[23, 22, 34, 45, 43, 21]\n",
      "List after removing duplicates:  [34, 43, 45, 21, 22, 23]\n",
      "{'apple', 'grape', 'orange', 'banana'}\n",
      "['apple', 'banana', 'orange', 'grape']\n",
      "List after removing duplicates:  ['apple', 'grape', 'orange', 'banana']\n"
     ]
    }
   ],
   "source": [
    "dup = [23,22,34,23,45,23,22,43,21,43,22]\n",
    "\n",
    "dup_items = set()\n",
    "uniq_items = []\n",
    "for x in dup:\n",
    "    if x not in dup_items:\n",
    "        uniq_items.append(x)\n",
    "        dup_items.add(x)\n",
    "print(dup_items)\n",
    "print(uniq_items)\n",
    "\n",
    "# Alternative Version\n",
    "\n",
    "output = list(set(dup))\n",
    "print(\"List after removing duplicates: \", output)\n",
    "\n",
    "#########################################################\n",
    "\n",
    "# For Character strings\n",
    "\n",
    "food = [\"apple\", \"banana\", \"orange\", \"apple\", \"grape\", \"banana\"]\n",
    "\n",
    "dup_items = set()\n",
    "uniq_items = []\n",
    "for x in food:\n",
    "    if x not in dup_items:\n",
    "        uniq_items.append(x)\n",
    "        dup_items.add(x)\n",
    "print(dup_items)\n",
    "print(uniq_items)\n",
    "\n",
    "# Alternative Version\n",
    "\n",
    "output = list(set(food))\n",
    "print(\"List after removing duplicates: \", output)"
   ]
  },
  {
   "cell_type": "markdown",
   "id": "d737d1da",
   "metadata": {},
   "source": [
    "## 8. Write a Python program to check if a list is empty or not."
   ]
  },
  {
   "cell_type": "code",
   "execution_count": 15,
   "id": "db38075f",
   "metadata": {},
   "outputs": [
    {
     "name": "stdout",
     "output_type": "stream",
     "text": [
      "With an Empty List\n",
      "EveryThing is Here\n"
     ]
    }
   ],
   "source": [
    "a = []\n",
    "c = [21,21,31,41]\n",
    "\n",
    "def find_empty(a):\n",
    "    \n",
    "    if not a:\n",
    "        print(\"With an Empty List\")\n",
    "    else:\n",
    "        print(\"EveryThing is Here\")\n",
    "             \n",
    "b = find_empty(a)\n",
    "b1 = find_empty(c)"
   ]
  },
  {
   "cell_type": "markdown",
   "id": "f6c01ff4",
   "metadata": {},
   "source": [
    "## 9. Write a Python Program to Clone or Copy a List ?"
   ]
  },
  {
   "cell_type": "code",
   "execution_count": 26,
   "id": "03bb5566",
   "metadata": {},
   "outputs": [
    {
     "name": "stdout",
     "output_type": "stream",
     "text": [
      "Original List:  [1, 2, 3, 4, 5, 6, 7, 8]\n",
      "\n"
     ]
    }
   ],
   "source": [
    "original_list = [1,2,3,4,5,6,7,8]\n",
    "clone = original_list[:]\n",
    "\n",
    "print(\"Original List: \", clone)\n",
    "print(\"\")"
   ]
  },
  {
   "cell_type": "markdown",
   "id": "3c365af9",
   "metadata": {},
   "source": [
    "## 10. Write a Python program to find the list of words that are longer than n from a given list of words."
   ]
  },
  {
   "cell_type": "code",
   "execution_count": 17,
   "id": "b29028cb",
   "metadata": {},
   "outputs": [
    {
     "name": "stdout",
     "output_type": "stream",
     "text": [
      "Words with longer than 6 characters: ['superman', 'spiderman', 'ironman', 'captain america', 'deadpool']\n"
     ]
    }
   ],
   "source": [
    "def find_long_word(word_list, n):\n",
    "    long_words = []\n",
    "    for word in word_list:\n",
    "        if len(word) > n:\n",
    "            long_words.append(word)\n",
    "    return long_words\n",
    "\n",
    "word_list = ['batman', 'superman', 'spiderman', 'ironman', 'captain america', 'deadpool', 'antman']\n",
    "n = 6\n",
    "\n",
    "long_words = find_long_word(word_list, n)\n",
    "print(f\"Words with longer than {n} characters: {long_words}\")"
   ]
  },
  {
   "cell_type": "markdown",
   "id": "b76534e8",
   "metadata": {},
   "source": [
    "## 11. Write a Python function that takes two lists and returns True if they have at least one common member. "
   ]
  },
  {
   "cell_type": "code",
   "execution_count": 18,
   "id": "7d4316e2",
   "metadata": {},
   "outputs": [
    {
     "name": "stdout",
     "output_type": "stream",
     "text": [
      "Do [11, 22, 33, 44, 55, 66] and [66, 77, 88, 99, 100, 111] have a common member? True\n"
     ]
    }
   ],
   "source": [
    "# Define fuction\n",
    "\n",
    "def have_common_member(list1, list2):\n",
    "    for item1 in list1:\n",
    "        for item2 in list2:\n",
    "            if item1 == item2:\n",
    "                return True\n",
    "    return False\n",
    "\n",
    "\n",
    "list1 = [11, 22, 33, 44, 55,66]\n",
    "list2 = [66, 77, 88, 99, 100, 111]\n",
    "\n",
    "print(f\"Do {list1} and {list2} have a common member? {have_common_member(list1, list2)}\")"
   ]
  },
  {
   "cell_type": "markdown",
   "id": "7b2bdea5",
   "metadata": {},
   "source": [
    "## 12. Write a Python program to print a specified list after removing the 0th, 4th and 5th elements."
   ]
  },
  {
   "cell_type": "code",
   "execution_count": 92,
   "id": "94e2e1eb",
   "metadata": {},
   "outputs": [
    {
     "name": "stdout",
     "output_type": "stream",
     "text": [
      "[2, 3, 4, 3]\n"
     ]
    }
   ],
   "source": [
    "color = ['Red', 'Green', 'White', 'Black', 'Pink', 'Yellow']\n",
    "\n",
    "my_list = my_list[1:4] + my_list[6:]\n",
    "print(my_list)\n"
   ]
  },
  {
   "cell_type": "markdown",
   "id": "84c4cc89",
   "metadata": {},
   "source": [
    "## 13. Write a Python program to generate a 3*4*6 3D array whose each element is *."
   ]
  },
  {
   "cell_type": "code",
   "execution_count": 20,
   "id": "b87f7a64",
   "metadata": {},
   "outputs": [
    {
     "name": "stdout",
     "output_type": "stream",
     "text": [
      "******\n",
      "******\n",
      "******\n",
      "******\n",
      "\n",
      "******\n",
      "******\n",
      "******\n",
      "******\n",
      "\n",
      "******\n",
      "******\n",
      "******\n",
      "******\n",
      "\n",
      "* * * * * *\n",
      "* * * * * *\n",
      "* * * * * *\n",
      "* * * * * *\n",
      "\n",
      "* * * * * *\n",
      "* * * * * *\n",
      "* * * * * *\n",
      "* * * * * *\n",
      "\n",
      "* * * * * *\n",
      "* * * * * *\n",
      "* * * * * *\n",
      "* * * * * *\n",
      "\n"
     ]
    }
   ],
   "source": [
    "# Generate a 3x4x6 3D array of '*'\n",
    "\n",
    "array_3D = [[['*' for _ in range(6)] for _ in range(4)] for _ in range(3)]\n",
    "\n",
    "for i in range(3):\n",
    "    for j in range(4):\n",
    "        for k in range(6):\n",
    "            print(array_3D[i][j][k], end='')\n",
    "        print()\n",
    "    print()\n",
    "\n",
    "    \n",
    "# Another Version\n",
    "array_3d = [[['*' for _ in range(6)] for _ in range(4)] for _ in range(3)]\n",
    "\n",
    "# Print the 3D array\n",
    "for row in array_3d:\n",
    "    for sub_row in row:\n",
    "        print(' '.join(sub_row))\n",
    "    print()\n"
   ]
  },
  {
   "cell_type": "markdown",
   "id": "a26a7d48",
   "metadata": {},
   "source": [
    "## 14. Write a Python program to print the numbers of a specified list after removing even numbers from it."
   ]
  },
  {
   "cell_type": "code",
   "execution_count": 21,
   "id": "5800b3af",
   "metadata": {},
   "outputs": [
    {
     "data": {
      "text/plain": [
       "[1, 3, 5, 7, 9]"
      ]
     },
     "execution_count": 21,
     "metadata": {},
     "output_type": "execute_result"
    }
   ],
   "source": [
    "def remove_even(list1):\n",
    "  return [x for x in list1 if x % 2 != 0]\n",
    "\n",
    "list1 = [1,2,3,4,5,6,7,8,9,10]\n",
    "odd_list = remove_even(list1)\n",
    "odd_list"
   ]
  },
  {
   "cell_type": "markdown",
   "id": "0dd67832",
   "metadata": {},
   "source": [
    "## 15. Write a Python program to shuffle and print a specified list."
   ]
  },
  {
   "cell_type": "code",
   "execution_count": 22,
   "id": "fdb75cb0",
   "metadata": {},
   "outputs": [
    {
     "name": "stdout",
     "output_type": "stream",
     "text": [
      "Do You wann Shuffle The List Now?:(Y/N): \n",
      "Invalid Input. Please Enter 'Y' or 'N'\n",
      "Do You wann Shuffle The List Now?:(Y/N): \n",
      "Invalid Input. Please Enter 'Y' or 'N'\n",
      "Do You wann Shuffle The List Now?:(Y/N): \n",
      "Invalid Input. Please Enter 'Y' or 'N'\n",
      "Do You wann Shuffle The List Now?:(Y/N): \n",
      "Invalid Input. Please Enter 'Y' or 'N'\n",
      "Do You wann Shuffle The List Now?:(Y/N): \n",
      "Invalid Input. Please Enter 'Y' or 'N'\n",
      "Do You wann Shuffle The List Now?:(Y/N): \n",
      "Invalid Input. Please Enter 'Y' or 'N'\n",
      "Do You wann Shuffle The List Now?:(Y/N): \n",
      "Invalid Input. Please Enter 'Y' or 'N'\n",
      "Do You wann Shuffle The List Now?:(Y/N): \n",
      "Invalid Input. Please Enter 'Y' or 'N'\n",
      "Do You wann Shuffle The List Now?:(Y/N): \n",
      "Invalid Input. Please Enter 'Y' or 'N'\n",
      "Do You wann Shuffle The List Now?:(Y/N): \n",
      "Invalid Input. Please Enter 'Y' or 'N'\n",
      "Do You wann Shuffle The List Now?:(Y/N): \n",
      "Invalid Input. Please Enter 'Y' or 'N'\n",
      "Do You wann Shuffle The List Now?:(Y/N): \n",
      "Invalid Input. Please Enter 'Y' or 'N'\n",
      "Do You wann Shuffle The List Now?:(Y/N): \n",
      "Invalid Input. Please Enter 'Y' or 'N'\n",
      "Do You wann Shuffle The List Now?:(Y/N): \n",
      "Invalid Input. Please Enter 'Y' or 'N'\n",
      "Do You wann Shuffle The List Now?:(Y/N): \n",
      "Invalid Input. Please Enter 'Y' or 'N'\n",
      "Do You wann Shuffle The List Now?:(Y/N): \n",
      "Invalid Input. Please Enter 'Y' or 'N'\n",
      "Do You wann Shuffle The List Now?:(Y/N): \n",
      "Invalid Input. Please Enter 'Y' or 'N'\n",
      "Do You wann Shuffle The List Now?:(Y/N): \n",
      "Invalid Input. Please Enter 'Y' or 'N'\n",
      "Do You wann Shuffle The List Now?:(Y/N): \n",
      "Invalid Input. Please Enter 'Y' or 'N'\n",
      "Do You wann Shuffle The List Now?:(Y/N): \n",
      "Invalid Input. Please Enter 'Y' or 'N'\n",
      "Do You wann Shuffle The List Now?:(Y/N): Y\n",
      "Invalid Input. Please Enter 'Y' or 'N'\n",
      "Do You wann Shuffle The List Now?:(Y/N): N\n",
      "Invalid Input. Please Enter 'Y' or 'N'\n",
      "Do You wann Shuffle The List Now?:(Y/N): n\n",
      "Exiting the Operation...\n",
      "A Single shuffle: [10, 5, 7, 1, 3, 8, 9, 2, 6, 4]\n"
     ]
    }
   ],
   "source": [
    "import random\n",
    "\n",
    "list1 = [1,2,3,4,5,6,7,8,9,10]\n",
    "\n",
    "while True:\n",
    "  user = input(\"Do You wann Shuffle The List Now?:(Y/N): \")\n",
    "  if user == 'y':\n",
    "    random.shuffle(list1)\n",
    "    print(list1)\n",
    "  elif user == 'n':\n",
    "    print(\"Exiting the Operation...\")\n",
    "    break\n",
    "  else:\n",
    "    print(\"Invalid Input. Please Enter 'Y' or 'N'\")\n",
    "\n",
    "### Alternative Version\n",
    "\n",
    "def shuffle_list(list2):\n",
    "  random.shuffle(list2)\n",
    "  return list2\n",
    "\n",
    "list2 = [1,2,3,4,5,6,7,8,9,10]\n",
    "\n",
    "shuffle_output = shuffle_list(list2)\n",
    "print(f\"A Single shuffle: {shuffle_output}\")\n"
   ]
  },
  {
   "cell_type": "markdown",
   "id": "8e516d5e",
   "metadata": {},
   "source": [
    "## 16. Write a Python program to generate and print a list of the first and last 5 elements where the values are square numbers between 1 and 30 (both included)."
   ]
  },
  {
   "cell_type": "code",
   "execution_count": 17,
   "id": "dcd34773",
   "metadata": {},
   "outputs": [
    {
     "name": "stdout",
     "output_type": "stream",
     "text": [
      "First 5 elements: [1, 4, 9, 16, 25]\n",
      "Last 5 elements: [1, 4, 9, 16, 25]\n"
     ]
    }
   ],
   "source": [
    "\"\"\" is_square function computes the square of the floor of the square root of n, which is the largest perfect square less than or equal to n.\n",
    "n**0.5 computes the square root of n. int((n**0.5)**2) == n checks whether the largest perfect square less than or equal to n is equal to n.\n",
    "\"\"\" \n",
    "def is_square(n):\n",
    "  return int(n**0.5)**2 == n   # Return True if n is a square number, otherwise it is False\n",
    "\n",
    "# Generaing a list of square numbers between 1 and 30 both including\n",
    "squares = [i for i in range(1,31) if is_square(i)] \n",
    "\n",
    "# Print the first and last 5 elements of the list\n",
    "print(\"First 5 elements:\", squares[:5])\n",
    "print(\"Last 5 elements:\", squares[-5:])"
   ]
  },
  {
   "cell_type": "markdown",
   "id": "98093ef4",
   "metadata": {},
   "source": [
    "## 17. Write a Python program to generate and print a list except for the first 5 elements, where the values are square numbers between 1 and 30 (both included)."
   ]
  },
  {
   "cell_type": "code",
   "execution_count": 18,
   "id": "d2b88bc7",
   "metadata": {},
   "outputs": [
    {
     "name": "stdout",
     "output_type": "stream",
     "text": [
      "Elements Excepts First 5 elements: []\n",
      "The are less than 5 square numbers in the list.\n"
     ]
    }
   ],
   "source": [
    "def is_square(n):\n",
    "  return int(n**0.5)**2 == n   # Return True if n is a square number, otherwise it is False\n",
    "\n",
    "# Generaing a list of square numbers between 1 and 30 both including\n",
    "squares = [i for i in range(1,31) if is_square(i)] \n",
    "\n",
    "# Print the first and last 5 elements of the list\n",
    "print(\"Elements Excepts First 5 elements:\", squares[5:])\n",
    "\n",
    "# Alternative Version:\n",
    "\n",
    "squares = []\n",
    "for i in range(1,31):\n",
    "  if is_square(i):\n",
    "    squares.append(i)\n",
    "\n",
    "if len(squares) > 5:\n",
    "  print(\"Elements Except First 5 Value\")\n",
    "  for i in range(5, len(squares)):\n",
    "    print(squares[i])\n",
    "else:\n",
    "  print(\"The are less than 5 square numbers in the list.\")"
   ]
  },
  {
   "cell_type": "markdown",
   "id": "bc2c8ae2",
   "metadata": {},
   "source": [
    "## 18. Write a Python program to generate all permutations of a list in Python."
   ]
  },
  {
   "cell_type": "code",
   "execution_count": 19,
   "id": "e8c272a0",
   "metadata": {},
   "outputs": [
    {
     "name": "stdout",
     "output_type": "stream",
     "text": [
      "(4, 5, 6, 7)\n",
      "(4, 5, 7, 6)\n",
      "(4, 6, 5, 7)\n",
      "(4, 6, 7, 5)\n",
      "(4, 7, 5, 6)\n",
      "(4, 7, 6, 5)\n",
      "(5, 4, 6, 7)\n",
      "(5, 4, 7, 6)\n",
      "(5, 6, 4, 7)\n",
      "(5, 6, 7, 4)\n",
      "(5, 7, 4, 6)\n",
      "(5, 7, 6, 4)\n",
      "(6, 4, 5, 7)\n",
      "(6, 4, 7, 5)\n",
      "(6, 5, 4, 7)\n",
      "(6, 5, 7, 4)\n",
      "(6, 7, 4, 5)\n",
      "(6, 7, 5, 4)\n",
      "(7, 4, 5, 6)\n",
      "(7, 4, 6, 5)\n",
      "(7, 5, 4, 6)\n",
      "(7, 5, 6, 4)\n",
      "(7, 6, 4, 5)\n",
      "(7, 6, 5, 4)\n",
      "[5, 6, 7, 8]\n",
      "[5, 6, 8, 7]\n",
      "[5, 7, 6, 8]\n",
      "[5, 7, 8, 6]\n",
      "[5, 8, 6, 7]\n",
      "[5, 8, 7, 6]\n",
      "[6, 5, 7, 8]\n",
      "[6, 5, 8, 7]\n",
      "[6, 7, 5, 8]\n",
      "[6, 7, 8, 5]\n",
      "[6, 8, 5, 7]\n",
      "[6, 8, 7, 5]\n",
      "[7, 5, 6, 8]\n",
      "[7, 5, 8, 6]\n",
      "[7, 6, 5, 8]\n",
      "[7, 6, 8, 5]\n",
      "[7, 8, 5, 6]\n",
      "[7, 8, 6, 5]\n",
      "[8, 5, 6, 7]\n",
      "[8, 5, 7, 6]\n",
      "[8, 6, 5, 7]\n",
      "[8, 6, 7, 5]\n",
      "[8, 7, 5, 6]\n",
      "[8, 7, 6, 5]\n"
     ]
    }
   ],
   "source": [
    "from itertools import permutations\n",
    "\n",
    "list1 = [4,5,6,7]\n",
    "permutation = permutations(list1)\n",
    "\n",
    "for perms in permutation:\n",
    "  print(perms)\n",
    "\n",
    "# Another Alternative Method\n",
    "\n",
    "def get_permutation(list1):\n",
    "\n",
    "  if len(list1) == 0:\n",
    "    return [[]] # return a list of all permutations of the input list\n",
    "  else:\n",
    "    result = []\n",
    "    for i in range(len(list1)):\n",
    "      \"\"\"\n",
    "      lst[:i] returns a list of all the elements of lst up to (but not including) index i,\n",
    "      and lst[i+1:] returns a list of all the elements of lst after (but not including) index i.\n",
    "\n",
    "      \"\"\"    \n",
    "      # using the loop variable i to represent the index of the current element.\n",
    "      rest = list1[:i] + list1[i+1:]   # For each element of lst, the function creates a new list rest that contains all the elements of lst except the current one.\n",
    "      for perm in get_permutation(rest):\n",
    "        result.append([list1[i]] + perm)\n",
    "    return result\n",
    "\n",
    "list1 = [5,6,7,8]\n",
    "perms = get_permutation(list1)\n",
    "\n",
    "for perm in perms:\n",
    "  print(perm)"
   ]
  },
  {
   "cell_type": "markdown",
   "id": "041aa948",
   "metadata": {},
   "source": [
    "## 19. Write a Python program to calculate the difference between the two lists."
   ]
  },
  {
   "cell_type": "code",
   "execution_count": 20,
   "id": "04ab9864",
   "metadata": {},
   "outputs": [
    {
     "name": "stdout",
     "output_type": "stream",
     "text": [
      "[1, 2]\n",
      "[21, 78]\n"
     ]
    }
   ],
   "source": [
    "def difference(list1, list2):\n",
    "\n",
    "  result = []\n",
    "  for x in list1:\n",
    "    if x not in list2:\n",
    "      result.append(x)\n",
    "  return result\n",
    "\n",
    "list1 = [1, 2, 3, 4, 5]\n",
    "list2 = [3, 4, 5, 6, 7]\n",
    "diff = difference(list1, list2)\n",
    "print(diff)\n",
    "\n",
    "# Alternative Method\n",
    "def difference(lst1, lst2):\n",
    "    \"\"\"\n",
    "    Returns a list containing the elements that are in lst1 but not in lst2.\n",
    "    \"\"\"\n",
    "    return list(set(lst1) - set(lst2))\n",
    "\n",
    "list1 = [67,54,32,21,56,78,97,54]\n",
    "list2 = [32,34,54,45,56,97,67]\n",
    "diff = difference(list1, list2)\n",
    "print(diff)\n"
   ]
  },
  {
   "cell_type": "markdown",
   "id": "06088c34",
   "metadata": {},
   "source": [
    "## 20. Write a Python program to access the index of a list."
   ]
  },
  {
   "cell_type": "code",
   "execution_count": 21,
   "id": "29dca0ee",
   "metadata": {},
   "outputs": [
    {
     "name": "stdout",
     "output_type": "stream",
     "text": [
      "0 apple\n",
      "1 banana\n",
      "2 cherry\n",
      "3 durian\n",
      "0 apple\n",
      "1 banana\n",
      "2 cherry\n",
      "3 durian\n"
     ]
    }
   ],
   "source": [
    "lst = ['apple', 'banana', 'cherry', 'durian']\n",
    "for index, item in enumerate(lst):\n",
    "    print(index, item)\n",
    "\n",
    "# Alternative \n",
    "\n",
    "lst = ['apple', 'banana', 'cherry', 'durian']\n",
    "for i in range(len(lst)):\n",
    "    print(i, lst[i])\n",
    "\n"
   ]
  },
  {
   "cell_type": "markdown",
   "id": "db9ec683",
   "metadata": {},
   "source": [
    "## 21. Write a Python program to convert a list of characters into a string. Go to the editor\n"
   ]
  },
  {
   "cell_type": "code",
   "execution_count": 103,
   "id": "7d46447e",
   "metadata": {},
   "outputs": [
    {
     "name": "stdout",
     "output_type": "stream",
     "text": [
      "Sakib\n"
     ]
    }
   ],
   "source": [
    "char_list = ['S', 'a', 'k', 'i', 'b']\n",
    "\n",
    "char_str = ''.join(char_list)\n",
    "print(char_str)"
   ]
  },
  {
   "cell_type": "markdown",
   "id": "9f5e2291",
   "metadata": {},
   "source": [
    "## 22. Write a Python program to find the index of an item in a specified list. Go to the editor\n"
   ]
  },
  {
   "cell_type": "code",
   "execution_count": 108,
   "id": "d9d88099",
   "metadata": {},
   "outputs": [
    {
     "name": "stdout",
     "output_type": "stream",
     "text": [
      "2\n",
      "2\n"
     ]
    }
   ],
   "source": [
    "def find_index(list1, item):\n",
    "\n",
    "    \"\"\"\n",
    "    Finds the index of an item in a list.\n",
    "\n",
    "    Args:\n",
    "        lst: A list of items.\n",
    "        item: The item to find the index of.\n",
    "\n",
    "    Returns:\n",
    "        The index of the item in the list, or -1 if the item is not in the list.\n",
    "    \"\"\"\n",
    "    \n",
    "    try:\n",
    "        index = list1.index(item)\n",
    "        return index\n",
    "    except ValueError:\n",
    "        return -1\n",
    "\n",
    "my_list = ['apple', 'banana', 'orange', 'pear']\n",
    "index = find_index(my_list, 'orange')\n",
    "print(index)  \n",
    "\n",
    "######## Alternative Method\n",
    "\n",
    "def find_index(list1, item):\n",
    "    for i in range(len(list1)):\n",
    "        if list1[i] == item:\n",
    "            return i\n",
    "        \n",
    "    return -1\n",
    "\n",
    "my_list = ['apple', 'banana', 'orange', 'pear']\n",
    "index = find_index(my_list, 'orange')\n",
    "print(index) \n",
    "    "
   ]
  },
  {
   "cell_type": "markdown",
   "id": "9ed0443b",
   "metadata": {},
   "source": [
    "## 23. Write a Python program to flatten a shallow list. Go to the editor\n",
    "Click me to see the sample solution"
   ]
  },
  {
   "cell_type": "code",
   "execution_count": 110,
   "id": "5aafe1e8",
   "metadata": {},
   "outputs": [
    {
     "name": "stdout",
     "output_type": "stream",
     "text": [
      "[1, 2, 3, 4, 5, 6]\n"
     ]
    }
   ],
   "source": [
    "def flatten(list1):\n",
    "    flatten_list = []\n",
    "    for item in list1:\n",
    "        if isinstance(item, list): # Checking item as list\n",
    "            for nested_item in item:\n",
    "                flatten_list.append(nested_item)\n",
    "                \n",
    "        else:\n",
    "            flatten_list.append(item)\n",
    "            \n",
    "    return flatten_list\n",
    "\n",
    "my_list = [1, [2, 3], 4, [5, 6]]\n",
    "flatten_list = flatten(my_list)\n",
    "print(flatten_list)\n",
    "\n",
    "            "
   ]
  },
  {
   "cell_type": "markdown",
   "id": "6a0d462e",
   "metadata": {},
   "source": [
    "## 24. Write a Python program to append a list to the second list. Go to the editor\n",
    "Click me to see the sample solution"
   ]
  },
  {
   "cell_type": "code",
   "execution_count": 113,
   "id": "f6bf2098",
   "metadata": {},
   "outputs": [
    {
     "name": "stdout",
     "output_type": "stream",
     "text": [
      "[10, 20, 30, 40, 50, 60]\n"
     ]
    }
   ],
   "source": [
    "def append_lists(list1, list2):\n",
    "    \n",
    "    for item in list1:\n",
    "        list2.append(item)\n",
    "        \n",
    "my_list1 = [10, 20, 30]\n",
    "my_list2 = [40, 50, 60]\n",
    "append_lists(my_list1, my_list2)\n",
    "print(sorted(my_list2))"
   ]
  },
  {
   "cell_type": "markdown",
   "id": "b6bd637e",
   "metadata": {},
   "source": [
    "## 25. Write a Python program to select an item randomly from a list. Go to the editor\n",
    "Click me to see the sample solution"
   ]
  },
  {
   "cell_type": "code",
   "execution_count": 118,
   "id": "2f971883",
   "metadata": {},
   "outputs": [
    {
     "name": "stdout",
     "output_type": "stream",
     "text": [
      "5\n",
      "6\n"
     ]
    }
   ],
   "source": [
    "import random\n",
    "\n",
    "my_list = [3,4,5,6,7,8,9]\n",
    "random_number = random.choice(my_list)\n",
    "print(random_number)\n",
    "\n",
    "#### Another version\n",
    "\n",
    "random_index = random.randint(0, len(my_list)-1)\n",
    "random_item = my_list[random_index]\n",
    "print(random_item)"
   ]
  },
  {
   "cell_type": "markdown",
   "id": "e8c519d3",
   "metadata": {},
   "source": [
    "## 26. Write a Python program to check whether two lists are circularly identical. Go to the editor\n",
    "Click me to see the sample solution"
   ]
  },
  {
   "cell_type": "code",
   "execution_count": 66,
   "id": "48651cf2",
   "metadata": {},
   "outputs": [
    {
     "name": "stdout",
     "output_type": "stream",
     "text": [
      "The two lists are circularly identical\n"
     ]
    }
   ],
   "source": [
    "def are_circularly_identical(list1, list2):\n",
    "    if len(list1) != len(list2):\n",
    "        return False\n",
    "    \n",
    "    concatenated = list1 + list2\n",
    "    if all(elem in concatenated for elem in list2):  # Taking a list as an example to see that everything matching \n",
    "        return True\n",
    "    \n",
    "    return False\n",
    "\n",
    "list1 = [10, 20, 30, 40, 50]\n",
    "list2 = [30, 40, 50, 10, 20]\n",
    "\n",
    "if are_circularly_identical(list1, list2):\n",
    "    print(\"The two lists are circularly identical\")\n",
    "else:\n",
    "    print(\"The two lists are not circularly identical\")"
   ]
  },
  {
   "cell_type": "markdown",
   "id": "274567b5",
   "metadata": {},
   "source": [
    "## 27. Write a Python program to find the second smallest number in a list. Go to the editor\n",
    "Click me to see the sample solution"
   ]
  },
  {
   "cell_type": "code",
   "execution_count": 68,
   "id": "20835199",
   "metadata": {},
   "outputs": [
    {
     "name": "stdout",
     "output_type": "stream",
     "text": [
      "The second smallest number is:  21\n"
     ]
    }
   ],
   "source": [
    "def find_second_smallest(numbers):\n",
    "    smallest = float('inf')\n",
    "    second_smallest = float('inf')\n",
    "    for num in numbers:\n",
    "        if num < smallest:\n",
    "            second_smallest = smallest\n",
    "            smallest = num\n",
    "        elif num < second_smallest and num != smallest:\n",
    "            second_smallest = num\n",
    "            \n",
    "    return second_smallest\n",
    "\n",
    "numbers = [23,34,56,43,21,11,43,54,67,87,42]\n",
    "\n",
    "second_smallest = find_second_smallest(numbers)\n",
    "print(\"The second smallest number is: \", second_smallest)"
   ]
  },
  {
   "cell_type": "markdown",
   "id": "c0086dd0",
   "metadata": {},
   "source": [
    "## 28. Write a Python program to find the second largest number in a list. Go to the editor\n",
    "Click me to see the sample solution"
   ]
  },
  {
   "cell_type": "code",
   "execution_count": 71,
   "id": "b86c2d07",
   "metadata": {},
   "outputs": [
    {
     "name": "stdout",
     "output_type": "stream",
     "text": [
      "The second largest number is: 65\n"
     ]
    }
   ],
   "source": [
    "def find_second_largest(numbers):\n",
    "    largest = float('-inf')\n",
    "    second_largest = float('-inf')\n",
    "    for num in numbers:\n",
    "        if num > largest:\n",
    "            second_largest = largest\n",
    "            largest = num\n",
    "        elif num > second_largest and num != largest:\n",
    "            second_largest = num\n",
    "    return second_largest\n",
    "\n",
    "numbers = [50, 45, 32, 53, 78, 65, 31, 21]\n",
    "\n",
    "second_largest = find_second_largest(numbers)\n",
    "print(\"The second largest number is:\", second_largest)"
   ]
  },
  {
   "cell_type": "markdown",
   "id": "c75a5952",
   "metadata": {},
   "source": [
    "## 29. Write a Python program to get unique values from a list. Go to the editor\n",
    "Click me to see the sample solution"
   ]
  },
  {
   "cell_type": "code",
   "execution_count": 73,
   "id": "137146d2",
   "metadata": {},
   "outputs": [
    {
     "name": "stdout",
     "output_type": "stream",
     "text": [
      "The unique numbers are: [50, 45, 32, 53, 78, 65, 31, 21]\n"
     ]
    }
   ],
   "source": [
    "def get_unique_values(numbers):\n",
    "    unique_numbers = []\n",
    "    for num in numbers:\n",
    "        if num not in unique_numbers:\n",
    "            unique_numbers.append(num)\n",
    "    return unique_numbers\n",
    "\n",
    "numbers = [50, 45,50, 32,45, 53, 78, 65,65,65, 31, 21]\n",
    "unique_numbers = get_unique_values(numbers)\n",
    "\n",
    "print(\"The unique numbers are:\", unique_numbers)"
   ]
  },
  {
   "cell_type": "markdown",
   "id": "a8f6e1c4",
   "metadata": {},
   "source": [
    "## 30. Write a Python program to get the frequency of elements in a list. Go to the editor\n",
    "Click me to see the sample solution"
   ]
  },
  {
   "cell_type": "code",
   "execution_count": 86,
   "id": "ad4b23f2",
   "metadata": {},
   "outputs": [
    {
     "name": "stdout",
     "output_type": "stream",
     "text": [
      "The unique numbers are: {50: 2, 45: 2, 32: 1, 53: 1, 78: 1, 65: 3, 31: 1, 21: 1}\n"
     ]
    }
   ],
   "source": [
    "def get_frequency(numbers):\n",
    "    freq_dict = {}\n",
    "    for num in numbers:\n",
    "        if num in freq_dict:\n",
    "            freq_dict[num] += 1\n",
    "        else:\n",
    "            freq_dict[num] = 1\n",
    "    return freq_dict\n",
    "\n",
    "numbers = [50, 45,50, 32,45, 53, 78, 65,65,65, 31, 21]\n",
    "unique_numbers = get_frequency(numbers)\n",
    "\n",
    "print(\"The unique numbers are:\", unique_numbers)"
   ]
  },
  {
   "cell_type": "code",
   "execution_count": null,
   "id": "45629601",
   "metadata": {},
   "outputs": [],
   "source": []
  },
  {
   "cell_type": "code",
   "execution_count": 91,
   "id": "b8d7a8fe",
   "metadata": {},
   "outputs": [
    {
     "name": "stdout",
     "output_type": "stream",
     "text": [
      "6\n"
     ]
    }
   ],
   "source": [
    "def find_last_occurrence(list1, element):\n",
    "    try: \n",
    "        last_occurence = len(list1) - 1 - list1[::-1].index(element)\n",
    "        return last_occurence\n",
    "    except ValueError:\n",
    "        return -1   # element is not ofund from the list\n",
    "    \n",
    "my_list = [1, 2, 3, 4, 3, 5, 3]\n",
    "last_occurrence = find_last_occurrence(my_list, 3)\n",
    "print(last_occurrence) "
   ]
  },
  {
   "cell_type": "markdown",
   "id": "0155e3a9",
   "metadata": {},
   "source": [
    "# Given a list and an element, write a program to find the last occurrence of the element in the list."
   ]
  },
  {
   "cell_type": "code",
   "execution_count": 95,
   "id": "5bde5a03",
   "metadata": {},
   "outputs": [
    {
     "name": "stdout",
     "output_type": "stream",
     "text": [
      "The last occurrence of 30 is at index 6.\n"
     ]
    }
   ],
   "source": [
    "def last_occurrence(lst, elem):\n",
    "    last_index = -1\n",
    "    \n",
    "    for i in range(len(lst)):\n",
    "        if lst[i] == elem:\n",
    "            last_index = i\n",
    "    return i\n",
    "\n",
    "my_list = [10, 20, 30, 40, 30, 20, 10]\n",
    "my_element = 30\n",
    "last_index = last_occurrence(my_list, my_element)\n",
    "print(f\"The last occurrence of {my_element} is at index {last_index}.\")"
   ]
  },
  {
   "cell_type": "markdown",
   "id": "7bf2c598",
   "metadata": {},
   "source": [
    "# Example 2: Set"
   ]
  },
  {
   "cell_type": "markdown",
   "id": "fd7ea872",
   "metadata": {},
   "source": [
    "## 1. Write a Python program to create a set."
   ]
  },
  {
   "cell_type": "code",
   "execution_count": 22,
   "id": "bb847a42",
   "metadata": {},
   "outputs": [
    {
     "name": "stdout",
     "output_type": "stream",
     "text": [
      "{2, 4, 6, 8, 10, 12, 14, 16, 18}\n"
     ]
    }
   ],
   "source": [
    "numbers = set()\n",
    "\n",
    "# add numbers to the set if they are even\n",
    "\n",
    "for i in range(1,20):\n",
    "    if i % 2 == 0:\n",
    "        numbers.add(i)\n",
    "       \n",
    "print(numbers)"
   ]
  },
  {
   "cell_type": "markdown",
   "id": "999db4ae",
   "metadata": {},
   "source": [
    "## 2. Write a Python program to iterate over sets."
   ]
  },
  {
   "cell_type": "code",
   "execution_count": 23,
   "id": "b228cfdc",
   "metadata": {},
   "outputs": [
    {
     "name": "stdout",
     "output_type": "stream",
     "text": [
      "We have Printed Number in a Set:  2\n",
      "We have Printed Number in a Set:  3\n",
      "We have Printed Number in a Set:  4\n",
      "We have Printed Number in a Set:  5\n",
      "We have Printed Number in a Set:  6\n",
      "We have Printed Number in a Set:  7\n",
      "We have Printed Number in a Set:  8\n",
      "2\n",
      "4\n",
      "6\n",
      "8\n"
     ]
    }
   ],
   "source": [
    "sets = {2,3,4,5,6,7,8}\n",
    "\n",
    "for num in sets:\n",
    "    print(\"We have Printed Number in a Set: \", num)\n",
    "    \n",
    "# Another Version\n",
    "\n",
    "# using a while loop and iterator\n",
    "iterator = iter(x for x in sets if x % 2 == 0)\n",
    "\n",
    "while True:\n",
    "    try:\n",
    "        num = next(iterator)\n",
    "        print(num)\n",
    "    except StopIteration:\n",
    "        break"
   ]
  },
  {
   "cell_type": "markdown",
   "id": "015d6582",
   "metadata": {},
   "source": [
    "# 3. Write a Python program to add member(s) to a set."
   ]
  },
  {
   "cell_type": "code",
   "execution_count": 24,
   "id": "7562eff1",
   "metadata": {},
   "outputs": [
    {
     "name": "stdout",
     "output_type": "stream",
     "text": [
      "{2.718, 3.14, 'banana', 4.2, 'apple', 'orange'}\n"
     ]
    }
   ],
   "source": [
    "my_set = {'apple', 'banana', 3.14, 2.718}\n",
    "new_members = ['banana', 2.718, 'orange', 4.20]\n",
    "\n",
    "for items in new_members: \n",
    "    if items not in my_set:\n",
    "        my_set.add(items)\n",
    "print(my_set)"
   ]
  },
  {
   "cell_type": "markdown",
   "id": "a0d9b130",
   "metadata": {},
   "source": [
    "## 4. Write a Python program to remove item(s) from a given set."
   ]
  },
  {
   "cell_type": "code",
   "execution_count": 25,
   "id": "462b1a0d",
   "metadata": {},
   "outputs": [
    {
     "name": "stdout",
     "output_type": "stream",
     "text": [
      "{1, 2.718, 3.14, 2, 'banana'}\n",
      "{2, 3.14}\n"
     ]
    }
   ],
   "source": [
    "my_set = {1, 2, 'apple', 'banana', 3.14, 2.718}\n",
    "\n",
    "my_set.remove('apple')\n",
    "\n",
    "print(my_set)\n",
    "\n",
    "# Remove multiple items from the set\n",
    "items_to_remove = {1, 'banana', 2.718}\n",
    "my_set.difference_update(items_to_remove)\n",
    "\n",
    "print(my_set) # Output {3.1416}"
   ]
  },
  {
   "cell_type": "markdown",
   "id": "1423c0e2",
   "metadata": {},
   "source": [
    "## 5. Write a Python program to remove an item from a set if it is present in the set."
   ]
  },
  {
   "cell_type": "code",
   "execution_count": 30,
   "id": "2016e8c5",
   "metadata": {},
   "outputs": [
    {
     "name": "stdout",
     "output_type": "stream",
     "text": [
      "{1, 2, 4, 5}\n"
     ]
    }
   ],
   "source": [
    "# create a set of numbers\n",
    "numbers = {1, 2, 3, 4, 5}\n",
    "\n",
    "# remove an item from the set if it is present\n",
    "if 3 in numbers:\n",
    "    numbers.remove(3)\n",
    "\n",
    "print(numbers) # Output: {1, 2, 4, 5}\n"
   ]
  },
  {
   "cell_type": "markdown",
   "id": "54c1b414",
   "metadata": {},
   "source": [
    "## 6. Write a Python program to create an intersection of sets."
   ]
  },
  {
   "cell_type": "code",
   "execution_count": 31,
   "id": "d06e877c",
   "metadata": {},
   "outputs": [
    {
     "name": "stdout",
     "output_type": "stream",
     "text": [
      "{3, 4, 5, 6, 7, 8}\n"
     ]
    }
   ],
   "source": [
    "# Create Two Sets\n",
    "set1 = {2,3,4,5,6,7,8}\n",
    "set2 = {3,4,5,6,7,8,9}\n",
    "\n",
    "# Create an empty set to store the intersection\n",
    "intersection = set()\n",
    "\n",
    "# Loop through the first set and check if each item is in the second set\n",
    "\n",
    "for item in set1:\n",
    "    if item in set2:\n",
    "        intersection.add(item)\n",
    "        \n",
    "print(intersection)"
   ]
  },
  {
   "cell_type": "markdown",
   "id": "2383fe13",
   "metadata": {},
   "source": [
    "## 7. Write a Python program to create a union of sets"
   ]
  },
  {
   "cell_type": "code",
   "execution_count": 32,
   "id": "976621e6",
   "metadata": {},
   "outputs": [
    {
     "name": "stdout",
     "output_type": "stream",
     "text": [
      "{3, 4, 5, 6, 7}\n"
     ]
    }
   ],
   "source": [
    "set1 = {3,4,5,6,7}\n",
    "set2 = {2,3,4,5,6}\n",
    "\n",
    "union_set = set1.copy()\n",
    "for elem in set2:\n",
    "    if elem not in set2:\n",
    "        union_set.add(elem)\n",
    "        \n",
    "print(union_set)"
   ]
  },
  {
   "cell_type": "markdown",
   "id": "5715fc93",
   "metadata": {},
   "source": [
    "## 8. Write a Python program to create set difference."
   ]
  },
  {
   "cell_type": "code",
   "execution_count": 33,
   "id": "e2f6d1a7",
   "metadata": {},
   "outputs": [
    {
     "name": "stdout",
     "output_type": "stream",
     "text": [
      "{1, 2}\n"
     ]
    }
   ],
   "source": [
    "set1 = {1,2,3,4,5,6,7}\n",
    "set2 = {3,4,5,6,7,8,9}\n",
    "\n",
    "diff_set = set1 - set2\n",
    "print(diff_set)\n",
    "\n",
    "# Another Version"
   ]
  },
  {
   "cell_type": "markdown",
   "id": "bea2728b",
   "metadata": {},
   "source": [
    "## 9. Write a Python program to create a symmetric difference"
   ]
  },
  {
   "cell_type": "code",
   "execution_count": 34,
   "id": "b78149df",
   "metadata": {},
   "outputs": [
    {
     "name": "stdout",
     "output_type": "stream",
     "text": [
      "{1, 2, 5, 6}\n",
      "{1, 2, 5, 6}\n"
     ]
    }
   ],
   "source": [
    "set1 = {1,2,3,4}\n",
    "set2 = {3,4,5,6}\n",
    "\n",
    "symmetric_diff = set()\n",
    "\n",
    "for element in set1:\n",
    "    if element not in set2:\n",
    "        symmetric_diff.add(element)\n",
    "        \n",
    "for element in set2:\n",
    "    if element not in set1:\n",
    "        symmetric_diff.add(element)\n",
    "        \n",
    "print(symmetric_diff)\n",
    "\n",
    "# Alternative Version\n",
    "\n",
    "sym_diff = set1.symmetric_difference(set2)  # Using direct method\n",
    "print(sym_diff)"
   ]
  },
  {
   "cell_type": "markdown",
   "id": "33b62f4d",
   "metadata": {},
   "source": [
    "## 10. Write a Python program to check if a set is a subset of another set."
   ]
  },
  {
   "cell_type": "code",
   "execution_count": 35,
   "id": "f6ba0afe",
   "metadata": {},
   "outputs": [
    {
     "name": "stdout",
     "output_type": "stream",
     "text": [
      "set2 is a subset of set1\n",
      "set2 is a subset of set1\n",
      "set2 is a subset of set1\n"
     ]
    }
   ],
   "source": [
    "set1 = {5,6,7,8,9}\n",
    "set2 = {6,7,8}\n",
    "\n",
    "is_subset = True\n",
    "for element in set2:\n",
    "    if element not in set1:\n",
    "        is_subset = False\n",
    "        break\n",
    "\n",
    "if is_subset:\n",
    "    print(\"set2 is a subset of set1\")\n",
    "else:\n",
    "    print(\"set2 is not a subset of set1\")\n",
    "    \n",
    "# Another Example:\n",
    "\n",
    "set1 = {5,6,7,8,9}\n",
    "set2 = {6,7,8}\n",
    "\n",
    "if set2 <= set1:\n",
    "    print(\"set2 is a subset of set1\")\n",
    "else:\n",
    "    print(\"set2 is not a subset of set1\")\n",
    "    \n",
    "# Another Example 2:\n",
    "\n",
    "\n",
    "if set2.issubset(set1):\n",
    "    print(\"set2 is a subset of set1\")\n",
    "else:\n",
    "    print(\"set2 is not a subset of set1\")\n"
   ]
  },
  {
   "cell_type": "markdown",
   "id": "8b8dd99d",
   "metadata": {},
   "source": [
    "## 11. Write a Python program to create a shallow copy of sets."
   ]
  },
  {
   "cell_type": "code",
   "execution_count": 36,
   "id": "6014dca1",
   "metadata": {},
   "outputs": [
    {
     "name": "stdout",
     "output_type": "stream",
     "text": [
      "{23, 24, 25, 27, 28, 29, 30}\n",
      "{10, 45, (23, 32), 21, 23}\n"
     ]
    }
   ],
   "source": [
    "import copy \n",
    "\n",
    "set1 = {23,24,25,27,28,29,30}\n",
    "set2 = {10, 23, 45, (23,32), 21} # Set2 contains only the hashable type\n",
    "\n",
    "set3 = set1.copy()\n",
    "set3 = set(set1)\n",
    "set3\n",
    "set4 = copy.deepcopy(set2)\n",
    "set4\n",
    "\n",
    "print(set3)\n",
    "print(set4)"
   ]
  },
  {
   "cell_type": "code",
   "execution_count": 37,
   "id": "b7c22945",
   "metadata": {},
   "outputs": [
    {
     "name": "stdout",
     "output_type": "stream",
     "text": [
      "Set 2 is a Subset of Set 1\n",
      "Set3 is Subset of Set 1\n"
     ]
    }
   ],
   "source": [
    "# Loop Method\n",
    "set1 = {23,24,25,27,28,29,30}\n",
    "set2 = set1.copy()\n",
    "set3 = set(set2)\n",
    "\n",
    "# Check if set2 is a subset of set1\n",
    "\n",
    "for element in set2:\n",
    "    if element not in set1:\n",
    "        print(\"Set 2 is not a subset of set 1\")\n",
    "        break\n",
    "else:\n",
    "    print(\"Set 2 is a Subset of Set 1\")\n",
    "    \n",
    "# Checking If set 3 is a subset of Set 1\n",
    "\n",
    "for element in set3:\n",
    "    if element not in set1:\n",
    "        print(\"Set3 is not a Subset of Set1\")\n",
    "        break\n",
    "else:\n",
    "    print(\"Set3 is Subset of Set 1\")"
   ]
  },
  {
   "cell_type": "markdown",
   "id": "053dc568",
   "metadata": {},
   "source": [
    "## 12. Write a Python program to remove all elements from a given set."
   ]
  },
  {
   "cell_type": "code",
   "execution_count": 38,
   "id": "b826d292",
   "metadata": {},
   "outputs": [
    {
     "name": "stdout",
     "output_type": "stream",
     "text": [
      "set()\n"
     ]
    }
   ],
   "source": [
    "set = {2,3,4,5,6,7}\n",
    "\n",
    "set.clear()\n",
    "print(set)"
   ]
  },
  {
   "cell_type": "markdown",
   "id": "edb9438d",
   "metadata": {},
   "source": [
    "## 13. Write a Python program that uses frozensets. Go to the editor\n",
    "Note: Frozensets behave just like sets except they are immutable."
   ]
  },
  {
   "cell_type": "code",
   "execution_count": 44,
   "id": "421aaf2e",
   "metadata": {},
   "outputs": [
    {
     "name": "stdout",
     "output_type": "stream",
     "text": [
      "frozenset({1, 2, 3, 4, 5, 6, 7})\n",
      "Error!\n"
     ]
    }
   ],
   "source": [
    "sets = {1,2,3,4,5,6,7}\n",
    "frozen_set = frozenset(sets)\n",
    "print(frozen_set)\n",
    "\n",
    "# Adding element in frozen set\n",
    "\n",
    "try:\n",
    "    frozen_set.add(4)\n",
    "except AttributeError:\n",
    "    print(\"Error!\")"
   ]
  },
  {
   "cell_type": "markdown",
   "id": "0780f751",
   "metadata": {},
   "source": [
    "## 14. Write a Python program to find the maximum and minimum values in a set."
   ]
  },
  {
   "cell_type": "code",
   "execution_count": 47,
   "id": "1b0fe4fd",
   "metadata": {},
   "outputs": [
    {
     "name": "stdout",
     "output_type": "stream",
     "text": [
      "7\n",
      "1\n"
     ]
    }
   ],
   "source": [
    "sets = {1,2,3,4,5,6,7}\n",
    "\n",
    "max_value = max(sets)\n",
    "min_value = min(sets)\n",
    "print(max_value)\n",
    "print(min_value)"
   ]
  },
  {
   "cell_type": "markdown",
   "id": "c7ee27a0",
   "metadata": {},
   "source": [
    " ## 15. Write a Python program to find the length of a set."
   ]
  },
  {
   "cell_type": "code",
   "execution_count": 50,
   "id": "0b3e7472",
   "metadata": {},
   "outputs": [
    {
     "name": "stdout",
     "output_type": "stream",
     "text": [
      "Length of set: 15\n"
     ]
    }
   ],
   "source": [
    "my_set = {1, 2, 3, 4, 5,6,7,8,9,10,11,12,13,14,15}\n",
    "\n",
    "length = len(my_set)\n",
    "print(\"Length of set:\", length)"
   ]
  },
  {
   "cell_type": "markdown",
   "id": "5efc8e64",
   "metadata": {},
   "source": [
    "## 16. Write a Python program to check if a given value is present in a set or not. "
   ]
  },
  {
   "cell_type": "code",
   "execution_count": 54,
   "id": "ae92e2a5",
   "metadata": {},
   "outputs": [
    {
     "name": "stdout",
     "output_type": "stream",
     "text": [
      "8 is in set\n",
      "2 is present\n"
     ]
    }
   ],
   "source": [
    "my_set = {1, 2, 3, 4, 5, 6, 7,    ;     8}\n",
    "\n",
    "if 8 in my_set:\n",
    "    print(\"8 is in set\")\n",
    "else:\n",
    "    print(\"8 not in the set\")\n",
    "    \n",
    "if 2 in my_set:\n",
    "    print(\"2 is present\")\n",
    "else:\n",
    "    print(\"2 is not present\")"
   ]
  },
  {
   "cell_type": "markdown",
   "id": "1bb07b70",
   "metadata": {},
   "source": [
    "## 17. Write a Python program to check if two given sets have no elements in common. "
   ]
  },
  {
   "cell_type": "code",
   "execution_count": 57,
   "id": "6c7bbc27",
   "metadata": {},
   "outputs": [
    {
     "name": "stdout",
     "output_type": "stream",
     "text": [
      "Sets have no common elements\n",
      "Sets have no common elements\n"
     ]
    }
   ],
   "source": [
    "set1 = {1, 2, 3, 4, 5}\n",
    "set2 = {6, 7, 8, 9, 10}\n",
    "\n",
    "if set1.isdisjoint(set2):\n",
    "    print(\"Sets have no common elements\")\n",
    "else:\n",
    "    print(\"Sets have common elements\")\n",
    "    \n",
    "# ANother example\n",
    "\n",
    "def have_no_common(set1, set2):\n",
    "    if set1.isdisjoint(set2):\n",
    "        return True\n",
    "    else:\n",
    "        return False\n",
    "\n",
    "set1 = {1, 2, 3,4, 5}\n",
    "set2 = {6, 7, 8, 9, 10}\n",
    "\n",
    "\n",
    "if have_no_common(set1, set2):\n",
    "    print(\"Sets have no common elements\")\n",
    "else:\n",
    "    print(\"Sets have common elements\")\n",
    "    "
   ]
  },
  {
   "cell_type": "markdown",
   "id": "f0d1240e",
   "metadata": {},
   "source": [
    "## 18. Write a Python program to check if a given set is a superset of itself and a superset of another given set. "
   ]
  },
  {
   "cell_type": "code",
   "execution_count": 58,
   "id": "3a0f1ec2",
   "metadata": {},
   "outputs": [
    {
     "name": "stdout",
     "output_type": "stream",
     "text": [
      "Set 1 is not a superset of itself and set2\n"
     ]
    }
   ],
   "source": [
    "set1 = {1, 2, 3, 4, 5}\n",
    "set2 = {6, 7, 8, 9, 10}\n",
    "\n",
    "if set1.issuperset(set1) and set1.issuperset(set2):\n",
    "    print(\"Set 1 is a superset of itself and set2\")\n",
    "else:\n",
    "    print(\"Set 1 is not a superset of itself and set2\")\n",
    "    "
   ]
  },
  {
   "cell_type": "markdown",
   "id": "c28b6deb",
   "metadata": {},
   "source": [
    "## 19. Write a Python program to find elements in a given set that are not in another set."
   ]
  },
  {
   "cell_type": "code",
   "execution_count": 60,
   "id": "484a6b2c",
   "metadata": {},
   "outputs": [
    {
     "data": {
      "text/plain": [
       "{1, 2, 3}"
      ]
     },
     "execution_count": 60,
     "metadata": {},
     "output_type": "execute_result"
    }
   ],
   "source": [
    "set1 = {1,2,3,4,5}\n",
    "set2 = {4,5,6,7,8}\n",
    "diff_set = set1.difference(set2)\n",
    "diff_set"
   ]
  },
  {
   "cell_type": "markdown",
   "id": "6c628f1c",
   "metadata": {},
   "source": [
    "## 20. Write a Python program to remove the intersection of a second set with a first set."
   ]
  },
  {
   "cell_type": "code",
   "execution_count": 24,
   "id": "a267fb7e",
   "metadata": {},
   "outputs": [
    {
     "name": "stdout",
     "output_type": "stream",
     "text": [
      "{1, 2, 3}\n"
     ]
    }
   ],
   "source": [
    "first_set = {1, 2, 3, 4, 5}\n",
    "second_set = {4, 5, 6, 7, 8}\n",
    "\n",
    "first_set -= second_set.intersection(first_set)  # -= using for removing the intersection of a second set\n",
    "\n",
    "print(first_set)\n"
   ]
  },
  {
   "cell_type": "markdown",
   "id": "427dbdc2",
   "metadata": {},
   "source": [
    "## 21. Write a Python program to find all the unique words and count the frequency of occurrence from a given list of strings. Use Python set data type"
   ]
  },
  {
   "cell_type": "code",
   "execution_count": 6,
   "id": "f4ac77dc",
   "metadata": {},
   "outputs": [
    {
     "name": "stdout",
     "output_type": "stream",
     "text": [
      "Unique Words: \n",
      "numerous\n",
      "wings\n",
      "are\n",
      "that\n",
      "There\n",
      "entity\n",
      "gives\n",
      "you\n",
      "\n",
      "Word Frequency (Count for each word): \n",
      "are 2\n",
      "There 1\n",
      "numerous 1\n",
      "entity 1\n",
      "gives 1\n",
      "wings 2\n",
      "you 1\n",
      "that 1\n"
     ]
    }
   ],
   "source": [
    "list_of_strings = [\"There are\", \"numerous entity\", \"that gives you wings\", \"are wings\"]\n",
    "\n",
    "word_count = {}\n",
    "\n",
    "for string in list_of_strings:\n",
    "    words = set(string.split())\n",
    "    for word in words:\n",
    "        if word in word_count:\n",
    "            word_count[word] += 1\n",
    "        else:\n",
    "            word_count[word] = 1\n",
    "            \n",
    "unique_words = set(word_count.keys())\n",
    "\n",
    "print(\"Unique Words: \")\n",
    "for word in unique_words:\n",
    "    print(word)\n",
    "    \n",
    "print(\"\\nWord Frequency (Count for each word): \")\n",
    "for word, count in word_count.items():\n",
    "    print(word, count)\n",
    "    \n",
    "    "
   ]
  },
  {
   "cell_type": "markdown",
   "id": "5478871c",
   "metadata": {},
   "source": [
    "## 22. Write a Python program that finds all pairs of elements in a list whose sum is equal to a given value. "
   ]
  },
  {
   "cell_type": "code",
   "execution_count": 15,
   "id": "0953c041",
   "metadata": {},
   "outputs": [
    {
     "name": "stdout",
     "output_type": "stream",
     "text": [
      "[(1, 8), (2, 7), (3, 6), (4, 5)]\n",
      "List of pairs whose sum is equal to a given value 9 is: [(1, 8), (2, 7), (3, 6), (4, 5)]\n"
     ]
    }
   ],
   "source": [
    "def pairs(nums, end_sum):\n",
    "    list_of_pairs = []\n",
    "    for i in range(len(nums)):   # whenever applying range(len()) process we are working with both idex and its associated value like enumeration\n",
    "        for j in range(i+1, len(nums)):  # i+1 going for j presenting the second element value\n",
    "            if nums[i] + nums[j] == end_sum:  # firsta and second element addition is 9 \n",
    "                list_of_pairs.append((nums[i], nums[j]))\n",
    "    return list_of_pairs\n",
    "\n",
    "nums = [1,2,3,4,5,6,7,8,9]\n",
    "end_sum = 9\n",
    "pair = pairs(nums, end_sum)\n",
    "print(pair)\n",
    "print(f\"List of pairs whose sum is equal to a given value {end_sum} is: {pair}\")"
   ]
  },
  {
   "cell_type": "markdown",
   "id": "9075d3a9",
   "metadata": {},
   "source": [
    "## 23. Write a Python program to find the longest common prefix of all strings. Use the Python set."
   ]
  },
  {
   "cell_type": "code",
   "execution_count": 27,
   "id": "5785f850",
   "metadata": {},
   "outputs": [
    {
     "name": "stdout",
     "output_type": "stream",
     "text": [
      "loe\n",
      "Ro\n"
     ]
    }
   ],
   "source": [
    "def longest_common_prefix(string):\n",
    "    \n",
    "    if not string:\n",
    "        return \"\"\n",
    "    \n",
    "    prefix = string[0]\n",
    "    for s in string[1:]:\n",
    "        while prefix != s[:len(prefix)]:\n",
    "            prefix = prefix[:-1]\n",
    "            if not prefix:\n",
    "                return \"\"\n",
    "    return prefix\n",
    "\n",
    "strings = [\"loevebirdd\", \"loewer feelingss\", \"loew budgett\"]\n",
    "prefix = longest_common_prefix(strings)\n",
    "print(prefix)  \n",
    "\n",
    "# Another Version\n",
    "\n",
    "def longest_common_prefix(string):\n",
    "    if not string:\n",
    "        return \"\"\n",
    "    \n",
    "    min_length = min([len(word) for word in string])  # This becomes the maximum length of the common prefix that can exist among all the strings.\n",
    "    for i in range(min_length): # it loops over the indices from 0 to min_length - 1 and for each index, it extracts the character at that index from all the strings in the list using a list comprehension\n",
    "        chars = set([word[i] for word in string]) # set function creates a set of unique characters\n",
    "        if len(chars) >  1: # f the length of the set is greater than 1, it means that the character at that index is not common to all the strings in the list and the function returns the common prefix up to the previous index using slicing\n",
    "            return string[0][:i]  # Including zero to zero to ith value\n",
    "    return string[0][:min_length]  #  All the characters up to the minimum length are common to all the strings. \n",
    "\n",
    "names = [\"Robabu\", \"Robust\", \"Roshun\"]\n",
    "n = longest_common_prefix(names)\n",
    "print(n)"
   ]
  },
  {
   "cell_type": "markdown",
   "id": "ce759301",
   "metadata": {},
   "source": [
    "## 24. Write a Python program to find the two numbers whose product is maximum among all the pairs in a given list of numbers. Use the Python set. "
   ]
  },
  {
   "cell_type": "code",
   "execution_count": 28,
   "id": "08845508",
   "metadata": {},
   "outputs": [
    {
     "name": "stdout",
     "output_type": "stream",
     "text": [
      "30\n"
     ]
    }
   ],
   "source": [
    "def max_product(nums):\n",
    "    if len(nums) < 2: # First checks if the list has at least 2 numbers\n",
    "        return None\n",
    "    \n",
    "    max1 = max(nums)\n",
    "    nums.remove(max1)\n",
    "    max2 = max(nums)  # It finds the maximum number in the remaining list (which now doesn't have max1) and assigns it to the variable max2\n",
    "    return max1 * max2\n",
    "\n",
    "num = [2,3,4,5,6]\n",
    "max_product = max_product(num)\n",
    "print(max_product)"
   ]
  },
  {
   "cell_type": "markdown",
   "id": "1aaf646d",
   "metadata": {},
   "source": [
    "## 25. Given two sets of numbers, write a Python program to find the missing numbers in the second set as compared to the first and vice versa. Use the Python set."
   ]
  },
  {
   "cell_type": "code",
   "execution_count": 29,
   "id": "38c4e334",
   "metadata": {},
   "outputs": [
    {
     "name": "stdout",
     "output_type": "stream",
     "text": [
      "{1, 4}\n",
      "{9, 7}\n"
     ]
    }
   ],
   "source": [
    "def missing_numbers(set1, set2):\n",
    "    set1_diff = set1.difference(set2)\n",
    "    set2_diff = set2.difference(set1)\n",
    "    return set1_diff, set2_diff\n",
    "\n",
    "set1 = {1, 2, 3, 4, 5}\n",
    "set2 = {2, 3, 5, 7, 9}\n",
    "set1_diff, set2_diff = missing_numbers(set1, set2)\n",
    "print(set1_diff) \n",
    "print(set2_diff)  "
   ]
  },
  {
   "cell_type": "markdown",
   "id": "8eccf3fb",
   "metadata": {},
   "source": [
    "## 26. Write a Python program to find all the anagrams and group them together from a given list of strings. Use the Python data type."
   ]
  },
  {
   "cell_type": "code",
   "execution_count": 38,
   "id": "b45afe3d",
   "metadata": {},
   "outputs": [
    {
     "name": "stdout",
     "output_type": "stream",
     "text": [
      "[['apple', 'elppa'], ['bat', 'atb'], ['eat', 'tea', 'ate']]\n"
     ]
    }
   ],
   "source": [
    "def group_anagrams(words):\n",
    "    groups = {}  # empty dictionary called groups\n",
    "    for word in words:\n",
    "        sorted_word = ''.join(sorted(word)) # sorts its letters in alphabetical order using the sorted function. It joins the sorted letters back into a string using the join method\n",
    "        if sorted_word not in groups:  # If sorted_word is not already a key in the groups dictionary, the function creates a new empty list as its value\n",
    "            groups[sorted_word] = []\n",
    "        groups[sorted_word].append(word)\n",
    "    return list(groups.values())\n",
    "\n",
    "words = ['apple', 'elppa', 'bat', 'atb', 'eat', 'tea', 'ate']\n",
    "anagrams_groups = group_anagrams(words)\n",
    "print(anagrams_groups)\n",
    "        "
   ]
  },
  {
   "cell_type": "code",
   "execution_count": null,
   "id": "a856ba14",
   "metadata": {},
   "outputs": [],
   "source": []
  },
  {
   "cell_type": "markdown",
   "id": "586a2931",
   "metadata": {},
   "source": [
    "## 27. Write a Python program to find all the anagrams in a given list of strings and then group them together. Use the Python data type."
   ]
  },
  {
   "cell_type": "code",
   "execution_count": 75,
   "id": "182c2c81",
   "metadata": {},
   "outputs": [
    {
     "name": "stdout",
     "output_type": "stream",
     "text": [
      "['eat', 'cba', 'tae', 'abc', 'xyz', 'yzx']\n",
      "[['eat', 'tae'], ['cba', 'abc'], ['xyz', 'yzx']]\n"
     ]
    }
   ],
   "source": [
    "def group_anagrams(strings):\n",
    "    final = {}\n",
    "    for x in strings:\n",
    "        sorted_string = ''.join(sorted(x))\n",
    "        if sorted_string not in final:\n",
    "            final[sorted_string] = [x]  # Different code than previous one\n",
    "        else:\n",
    "            final[sorted_string].append(x) \n",
    "    return list(final.values())\n",
    "\n",
    "strings = ['eat', 'cba', 'tae', 'abc', 'xyz', 'yzx']\n",
    "print(strings)\n",
    "print(group_anagrams(strings))"
   ]
  },
  {
   "cell_type": "markdown",
   "id": "c001677e",
   "metadata": {},
   "source": [
    "## 28. Write a Python program to find all the unique combinations of 3 numbers from a given list of numbers, adding up to a target number. "
   ]
  },
  {
   "cell_type": "code",
   "execution_count": 80,
   "id": "9158bfa1",
   "metadata": {},
   "outputs": [
    {
     "name": "stdout",
     "output_type": "stream",
     "text": [
      "[(1, 2, 7), (1, 3, 6), (1, 4, 5), (2, 3, 5)]\n"
     ]
    }
   ],
   "source": [
    "from itertools import combinations\n",
    "\n",
    "# Define function to find all combinations of 3 numbers from a given list\n",
    "def find_combination(numbers, target):\n",
    "    \n",
    "    # Create empty list to store the results\n",
    "    results = []\n",
    "    #Loop through all combinations of 3 numbers from the 'number' list\n",
    "    for combination in combinations(numbers, 3):\n",
    "        # Check if the sum of the 3 numbers equals the target number\n",
    "        if sum(combination) == target:\n",
    "            # If it does, append the combination to the results list\n",
    "            results.append(combination)\n",
    "            \n",
    "    return results\n",
    "\n",
    "# Define a list of numbers and a target number\n",
    "numbers = [1, 2, 3, 4, 5, 6, 7, 8, 9]\n",
    "target = 10\n",
    "\n",
    "# Call the 'find_combinations' function with the list of numbers and target number\n",
    "combinations = find_combination(numbers, target)\n",
    "\n",
    "print(combinations)\n",
    "    "
   ]
  },
  {
   "cell_type": "markdown",
   "id": "4d2bb916",
   "metadata": {},
   "source": [
    "## 29. Write a Python program to find the third largest number from a given list of numbers.Use the Python set data type. "
   ]
  },
  {
   "cell_type": "code",
   "execution_count": 102,
   "id": "f78c5b0c",
   "metadata": {},
   "outputs": [
    {
     "name": "stdout",
     "output_type": "stream",
     "text": [
      "Sorted Number: [89, 71, 68, 52, 43, 35, 34, 21, 14] \n",
      "Third Largest Number is: 68\n"
     ]
    }
   ],
   "source": [
    "def find_third_largest(numbers):\n",
    "    unique = set(numbers)\n",
    "    \n",
    "    # If there are fewer than 3 unique numbers, return None\n",
    "    if len(numbers) < 3:\n",
    "        return None\n",
    "    \n",
    "    # Otherwise convert the set back to a list and sort it in descending order\n",
    "    sorted_num = sorted(unique, reverse=True)\n",
    "    print(f\"Sorted Number: {sorted_num} \")\n",
    "    \n",
    "    return f'Third Largest Number is: {sorted_num[2]}'\n",
    "\n",
    "numbers = [34, 21, 35, 43, 52, 68, 89, 14, 71]\n",
    "third_largest = find_third_largest(numbers)\n",
    "print(third_largest) # Output: 7"
   ]
  },
  {
   "cell_type": "markdown",
   "id": "037b3375",
   "metadata": {},
   "source": [
    "## 30. Write a Python program to remove all duplicates from a given list of strings and return a list of unique strings. Use the Python set data type."
   ]
  },
  {
   "cell_type": "code",
   "execution_count": 101,
   "id": "1f7d7cbf",
   "metadata": {},
   "outputs": [
    {
     "name": "stdout",
     "output_type": "stream",
     "text": [
      "Unique strings: ['batman', 'superman', 'spiderman', 'antman']\n",
      "Count of unique strings: 4\n"
     ]
    }
   ],
   "source": [
    "def remove_duplicates(strings):\n",
    "    unique_strings = []\n",
    "    for string in strings:\n",
    "        if string not in unique_strings:\n",
    "            unique_strings.append(string)\n",
    "    return unique_strings\n",
    "\n",
    "strings = ['batman', 'superman', 'spiderman', 'batman', 'superman', 'antman']\n",
    "unique_strings = remove_duplicates(strings)\n",
    "count = len(unique_strings)\n",
    "print(\"Unique strings:\", unique_strings)\n",
    "print(\"Count of unique strings:\", count)\n"
   ]
  },
  {
   "cell_type": "markdown",
   "id": "1ec9724d",
   "metadata": {},
   "source": [
    "# ***** Example 3: Tuple"
   ]
  },
  {
   "cell_type": "markdown",
   "id": "8fa4909d",
   "metadata": {},
   "source": [
    "## 1. Write a Python program to create a tuple."
   ]
  },
  {
   "cell_type": "code",
   "execution_count": 26,
   "id": "ea086db5",
   "metadata": {},
   "outputs": [
    {
     "name": "stdout",
     "output_type": "stream",
     "text": [
      "(1, 2, 3, 4, 5)\n"
     ]
    }
   ],
   "source": [
    "# Creating a tuple\n",
    "my_tuple = (1, 2, 3, 4, 5)\n",
    "print(my_tuple)"
   ]
  },
  {
   "cell_type": "markdown",
   "id": "c8b97a18",
   "metadata": {},
   "source": [
    "## 2. Write a Python program to create a tuple with different data types."
   ]
  },
  {
   "cell_type": "code",
   "execution_count": 27,
   "id": "11d0fc03",
   "metadata": {},
   "outputs": [
    {
     "name": "stdout",
     "output_type": "stream",
     "text": [
      "('hello', 234, 31.14, False)\n"
     ]
    }
   ],
   "source": [
    "# Different data types\n",
    "my_tuple = (\"hello\", 234, 31.14, False)\n",
    "print(my_tuple)"
   ]
  },
  {
   "cell_type": "markdown",
   "id": "6cd2501f",
   "metadata": {},
   "source": [
    "## 3. Write a Python program to create a tuple of numbers and print one item. "
   ]
  },
  {
   "cell_type": "code",
   "execution_count": 28,
   "id": "5056268e",
   "metadata": {},
   "outputs": [
    {
     "name": "stdout",
     "output_type": "stream",
     "text": [
      "(30, 40, 50) 40\n"
     ]
    }
   ],
   "source": [
    "# tuple of numbers\n",
    "my_tuple = (10, 20, 30, 40, 50)\n",
    "\n",
    "# Printing one item from the tuple\n",
    "print(my_tuple[2:5], my_tuple[3])"
   ]
  },
  {
   "cell_type": "markdown",
   "id": "18d5ec0f",
   "metadata": {},
   "source": [
    "## 4. Write a Python program to unpack a tuple into several variables. "
   ]
  },
  {
   "cell_type": "code",
   "execution_count": 29,
   "id": "f57c6c4d",
   "metadata": {},
   "outputs": [
    {
     "name": "stdout",
     "output_type": "stream",
     "text": [
      "a: 11\n",
      "b: 22\n",
      "c: 33\n",
      "d: 44\n",
      "e: 55\n",
      "f: 66\n",
      "g: 77\n",
      "Item is:  11\n",
      "Item is:  22\n",
      "Item is:  33\n",
      "Item is:  44\n",
      "Item is:  55\n",
      "Item is:  66\n",
      "Item is:  77\n",
      "Item is:  (0, 11)\n",
      "Item is:  (1, 22)\n",
      "Item is:  (2, 33)\n",
      "Item is:  (3, 44)\n",
      "Item is:  (4, 55)\n",
      "Item is:  (5, 66)\n",
      "Item is:  (6, 77)\n"
     ]
    }
   ],
   "source": [
    "my_tuple = (11, 22, 33, 44, 55, 66, 77)\n",
    "a, b, c, d, e, f, g = my_tuple\n",
    "\n",
    "print(\"a:\", a)\n",
    "print(\"b:\", b)\n",
    "print(\"c:\", c)\n",
    "print(\"d:\", d)\n",
    "print(\"e:\", e)\n",
    "print(\"f:\", f)\n",
    "print(\"g:\", g)\n",
    "\n",
    "# Another Format\n",
    "\n",
    "# Unpacking using loop\n",
    "\n",
    "for item in my_tuple:\n",
    "    print(\"Item is: \", item)\n",
    "    \n",
    "# Or\n",
    "\n",
    "for item in enumerate(my_tuple):\n",
    "    print(\"Item is: \", item)"
   ]
  },
  {
   "cell_type": "markdown",
   "id": "a8981a86",
   "metadata": {},
   "source": [
    "## 5. Write a Python program to add an item to a tuple."
   ]
  },
  {
   "cell_type": "code",
   "execution_count": 30,
   "id": "786e8853",
   "metadata": {},
   "outputs": [
    {
     "name": "stdout",
     "output_type": "stream",
     "text": [
      "(11, 22, 33, 44, 55, 66, 8)\n"
     ]
    }
   ],
   "source": [
    "\"\"\"tuples in Python are immutable, meaning their elements cannot be modified after creation.\"\"\"\n",
    "\n",
    "# tuple concatenation Method:\n",
    "\n",
    "my_tuple = (11, 22, 33, 44, 55, 66)\n",
    "\n",
    "# Item to be added\n",
    "new_item = 8\n",
    "\n",
    "# Create a new tuple with the additional item using tuple concatenation\n",
    "new_tuple = my_tuple + (new_item,)\n",
    "print(new_tuple)\n"
   ]
  },
  {
   "cell_type": "markdown",
   "id": "dfc3f948",
   "metadata": {},
   "source": [
    "## 6. Write a Python program to convert a tuple to a string."
   ]
  },
  {
   "cell_type": "code",
   "execution_count": 31,
   "id": "36878247",
   "metadata": {},
   "outputs": [
    {
     "name": "stdout",
     "output_type": "stream",
     "text": [
      "Connverted String of Tuple:  112233445566\n",
      "Tuple as string: (11, 22, 33, 44, 55, 66)\n"
     ]
    }
   ],
   "source": [
    "my_tuple = (11, 22, 33, 44, 55, 66)\n",
    "string = ''.join(str(element) for element in my_tuple)\n",
    "print(\"Connverted String of Tuple: \", string)\n",
    "\n",
    "# Another Method\n",
    "# Convert tuple to string using string formatting\n",
    "tuple_string = str(my_tuple)\n",
    "\n",
    "# Print the string representation of the tuple\n",
    "print(\"Tuple as string:\", tuple_string)\n"
   ]
  },
  {
   "cell_type": "markdown",
   "id": "b55d2869",
   "metadata": {},
   "source": [
    "## 7. Write a Python program to get the 4th element from the last element of a tuple."
   ]
  },
  {
   "cell_type": "code",
   "execution_count": 32,
   "id": "0565f55d",
   "metadata": {},
   "outputs": [
    {
     "name": "stdout",
     "output_type": "stream",
     "text": [
      "4th element from the last: 33\n"
     ]
    }
   ],
   "source": [
    "my_tuple = (11, 22, 33, 44, 55, 66)\n",
    "\n",
    "# Get the 4th element from the last element of the tuple\n",
    "fourth = my_tuple[-4]\n",
    "\n",
    "# Print the element\n",
    "print(\"4th element from the last:\", fourth)"
   ]
  },
  {
   "cell_type": "markdown",
   "id": "845d92fd",
   "metadata": {},
   "source": [
    "## 8. Write a Python program to create the colon of a tuple."
   ]
  },
  {
   "cell_type": "code",
   "execution_count": 33,
   "id": "4bf14b01",
   "metadata": {},
   "outputs": [
    {
     "name": "stdout",
     "output_type": "stream",
     "text": [
      "Original tuple: (10, 20, [30, 40], 50, 60)\n",
      "Deep copied tuple: (10, 20, [30, 40, 80], 50, 60)\n",
      "Original tuple after deep copy: (10, 20, [30, 40], 50, 60)\n"
     ]
    }
   ],
   "source": [
    "import copy\n",
    "\n",
    "# Create a tuple\n",
    "tuplex = (10, 20, [30, 40], 50, 60)\n",
    "\n",
    "# Print the original tuple\n",
    "print(\"Original tuple:\", tuplex)\n",
    "\n",
    "# Create a deep copy of the tuple using deepcopy()\n",
    "tuplex_copy = copy.deepcopy(tuplex)\n",
    "\n",
    "# Modify the deep copied tuple\n",
    "tuplex_copy[2].append(80)\n",
    "\n",
    "# Print the deep copied tuple\n",
    "print(\"Deep copied tuple:\", tuplex_copy)\n",
    "\n",
    "# Print the original tuple after modifying the deep copied tuple\n",
    "print(\"Original tuple after deep copy:\", tuplex)\n"
   ]
  },
  {
   "cell_type": "markdown",
   "id": "da4456d1",
   "metadata": {},
   "source": [
    "## 9. Write a Python program to find repeated items in a tuple."
   ]
  },
  {
   "cell_type": "code",
   "execution_count": 34,
   "id": "989cdfd9",
   "metadata": {},
   "outputs": [
    {
     "name": "stdout",
     "output_type": "stream",
     "text": [
      "Repeated items are: [22, 55]\n",
      "Repeated items are: [22, 55]\n"
     ]
    }
   ],
   "source": [
    "# version 1:\n",
    "\n",
    "def repeated_item(tuplex):\n",
    "    repeated_items = []\n",
    "    for item in tuplex:\n",
    "        if tuplex.count(item) > 1 and item not in repeated_items:  # distinct numbers count to find the repeated value\n",
    "            repeated_items.append(item)\n",
    "    return repeated_items\n",
    "\n",
    "my_tuple = (11, 22, 33, 44, 55, 22, 66, 55)\n",
    "\n",
    "repeated_items = repeated_item(my_tuple)\n",
    "\n",
    "print(\"Repeated items are:\", repeated_items)\n",
    "\n",
    "# Version 2:\n",
    "\n",
    "def repeated_item(tuplex):\n",
    "    repeated_items = []\n",
    "    for item in tuplex:\n",
    "        count = 0\n",
    "        for element in tuplex:\n",
    "            if element == item:\n",
    "                count += 1\n",
    "        if count > 1 and item not in repeated_items:\n",
    "            repeated_items.append(item)\n",
    "    return repeated_items\n",
    "\n",
    "repeated_items = repeated_item(my_tuple)\n",
    "\n",
    "print(\"Repeated items are:\", repeated_items)"
   ]
  },
  {
   "cell_type": "markdown",
   "id": "145dc2a9",
   "metadata": {},
   "source": [
    "## 10. Write a Python program to check whether an element exists within a tuple."
   ]
  },
  {
   "cell_type": "code",
   "execution_count": 35,
   "id": "47913424",
   "metadata": {},
   "outputs": [
    {
     "name": "stdout",
     "output_type": "stream",
     "text": [
      "Element 3 exists in the tuple.\n",
      "Element 6 does not exist in the tuple.\n"
     ]
    }
   ],
   "source": [
    "def check_element_exists(tuplex, element):\n",
    "    if element in tuplex:\n",
    "        return True\n",
    "    else:\n",
    "        return False\n",
    "\n",
    "# Create a tuple\n",
    "my_tuple = (1, 2, 3, 4, 5)\n",
    "\n",
    "# Check if element 3 exists in the tuple\n",
    "\n",
    "if check_element_exists(my_tuple, 3):\n",
    "    print(\"Element 3 exists in the tuple.\")\n",
    "else:\n",
    "    print(\"Element 3 does not exist in the tuple.\")\n",
    "\n",
    "# Check if element 6 exists in the tuple\n",
    "if check_element_exists(my_tuple, 6):\n",
    "    print(\"Element 6 exists in the tuple.\")\n",
    "else:\n",
    "    print(\"Element 6 does not exist in the tuple.\")"
   ]
  },
  {
   "cell_type": "markdown",
   "id": "6eadcf27",
   "metadata": {},
   "source": [
    "## 11. Write a Python program to convert a list to a tuple."
   ]
  },
  {
   "cell_type": "code",
   "execution_count": 36,
   "id": "cf2855ae",
   "metadata": {},
   "outputs": [
    {
     "name": "stdout",
     "output_type": "stream",
     "text": [
      "(10, 20, 30, 40, 50)\n"
     ]
    }
   ],
   "source": [
    "my_list = [10, 20, 30, 40, 50]\n",
    "my_tuple = tuple(my_list)\n",
    "print(my_tuple)"
   ]
  },
  {
   "cell_type": "markdown",
   "id": "1bd12ded",
   "metadata": {},
   "source": [
    "## 12. Write a Python program to remove an item from a tuple."
   ]
  },
  {
   "cell_type": "code",
   "execution_count": 37,
   "id": "128f8b52",
   "metadata": {},
   "outputs": [
    {
     "data": {
      "text/plain": [
       "(10, 20, 30, 70)"
      ]
     },
     "execution_count": 37,
     "metadata": {},
     "output_type": "execute_result"
    }
   ],
   "source": [
    "# Tuples are immutable, which means that their contents cannot be modified.\n",
    "\n",
    "my_tuple = (10,20,30,40,50,60,70)\n",
    "remove_item = 40\n",
    "\n",
    "new_tuple = tuple(item for item in my_tuple if item != remove_item)\n",
    "new_tuple\n",
    "\n",
    "########################\n",
    "my_tuple = (10,20,30,40,50,60,70)\n",
    "remove_item = (40,50,60)\n",
    "\n",
    "new_tuple = tuple(item for item in my_tuple if item not in remove_item)\n",
    "new_tuple"
   ]
  },
  {
   "cell_type": "markdown",
   "id": "ad9c5865",
   "metadata": {},
   "source": [
    "## 13. Write a Python program to slice a tuple."
   ]
  },
  {
   "cell_type": "code",
   "execution_count": 38,
   "id": "00edccf1",
   "metadata": {},
   "outputs": [
    {
     "name": "stdout",
     "output_type": "stream",
     "text": [
      "(3, 4, 5)\n"
     ]
    }
   ],
   "source": [
    "my_tuple = (1, 2, 3, 4, 5, 6, 7, 8, 9, 10)\n",
    "\n",
    "# slice the tuple from index 2 to index 5 (exclusive)\n",
    "slice_tuple = my_tuple[2:5]\n",
    "\n",
    "print(slice_tuple)"
   ]
  },
  {
   "cell_type": "markdown",
   "id": "3a95baa1",
   "metadata": {},
   "source": [
    "## 14. Write a Python program to find the index of an item in a tuple."
   ]
  },
  {
   "cell_type": "code",
   "execution_count": 39,
   "id": "fcdce8b6",
   "metadata": {},
   "outputs": [
    {
     "name": "stdout",
     "output_type": "stream",
     "text": [
      "The index of 4 in (1, 2, 3, 4, 5, 6, 7) is 3\n"
     ]
    }
   ],
   "source": [
    "my_tuple = (1,2,3,4,5,6,7)\n",
    "item_to_find = 4\n",
    "\n",
    "if item_to_find in my_tuple:\n",
    "    index = my_tuple.index(item_to_find)\n",
    "    print(f\"The index of {item_to_find} in {my_tuple} is {index}\")\n",
    "else:\n",
    "    print(f\"{item_to_find} is not in {my_tuple}\")"
   ]
  },
  {
   "cell_type": "markdown",
   "id": "25992c35",
   "metadata": {},
   "source": [
    "## 15. Write a Python program to find the length of a tuple."
   ]
  },
  {
   "cell_type": "code",
   "execution_count": 40,
   "id": "2f07d05f",
   "metadata": {},
   "outputs": [
    {
     "name": "stdout",
     "output_type": "stream",
     "text": [
      "The length of (1, 2, 3, 4, 5) is 5\n"
     ]
    }
   ],
   "source": [
    "my_tuple = (1, 2, 3, 4, 5)\n",
    "length = len(my_tuple)\n",
    "\n",
    "print(f\"The length of {my_tuple} is {length}\")"
   ]
  },
  {
   "cell_type": "markdown",
   "id": "d57ea185",
   "metadata": {},
   "source": [
    "## 16. Write a Python program to convert a tuple to a dictionary."
   ]
  },
  {
   "cell_type": "code",
   "execution_count": 41,
   "id": "5d0fdfb7",
   "metadata": {},
   "outputs": [
    {
     "name": "stdout",
     "output_type": "stream",
     "text": [
      "The tuple (('apple', 3), ('banana', 2), ('orange', 1)) converted to a dictionary is {'apple': 3, 'banana': 2, 'orange': 1}\n"
     ]
    }
   ],
   "source": [
    "my_tuple = ((\"apple\", 3), (\"banana\", 2), (\"orange\", 1))\n",
    "my_dict = dict(my_tuple)\n",
    "\n",
    "print(f\"The tuple {my_tuple} converted to a dictionary is {my_dict}\")"
   ]
  },
  {
   "cell_type": "markdown",
   "id": "6fb4e375",
   "metadata": {},
   "source": [
    "## 17. Write a Python program to unzip a list of tuples into individual lists."
   ]
  },
  {
   "cell_type": "code",
   "execution_count": 42,
   "id": "8e84fd49",
   "metadata": {},
   "outputs": [
    {
     "name": "stdout",
     "output_type": "stream",
     "text": [
      "The list [(1, 'apple'), (2, 'banana'), (3, 'orange')] unzipped into (1, 2, 3) and ('apple', 'banana', 'orange')\n"
     ]
    }
   ],
   "source": [
    "my_list = [(1, \"apple\"), (2, \"banana\"), (3, \"orange\")]\n",
    "\n",
    "\"\"\"\n",
    "zip function with the * operator to unzip the list into two separate lists: \n",
    "one containing the numbers and one containing the fruits.\n",
    "\"\"\"\n",
    "\n",
    "numbers, fruits = zip(*my_list)  \n",
    "print(f\"The list {my_list} unzipped into {numbers} and {fruits}\")"
   ]
  },
  {
   "cell_type": "markdown",
   "id": "eae855b7",
   "metadata": {},
   "source": [
    "## 18. Write a Python program to reverse a tuple."
   ]
  },
  {
   "cell_type": "code",
   "execution_count": 43,
   "id": "22c43fb8",
   "metadata": {},
   "outputs": [
    {
     "name": "stdout",
     "output_type": "stream",
     "text": [
      "(10, 9, 8, 7, 6, 5, 4, 3, 2, 1)\n"
     ]
    }
   ],
   "source": [
    "my_tuple = (1, 2, 3, 4, 5, 6, 7, 8, 9, 10)\n",
    "reversed_tuple = my_tuple[::-1]\n",
    "print(reversed_tuple)"
   ]
  },
  {
   "cell_type": "markdown",
   "id": "41b0593a",
   "metadata": {},
   "source": [
    "## 19. Write a Python program to convert a list of tuples into a dictionary."
   ]
  },
  {
   "cell_type": "code",
   "execution_count": 44,
   "id": "751b9ba1",
   "metadata": {},
   "outputs": [
    {
     "data": {
      "text/plain": [
       "{'sakib': 3, 'robin': 2, 'shafee': 1}"
      ]
     },
     "execution_count": 44,
     "metadata": {},
     "output_type": "execute_result"
    }
   ],
   "source": [
    "my_list = [(\"sakib\", 3), (\"robin\", 2), (\"shafee\", 1)]\n",
    "my_dict = dict(my_list)\n",
    "my_dict"
   ]
  },
  {
   "cell_type": "markdown",
   "id": "8fca0c38",
   "metadata": {},
   "source": [
    "## 20. Write a Python program to print a tuple with string formatting. Go to the editor\n",
    "Sample tuple : (100, 200, 300)\n",
    "Output : This is a tuple (100, 200, 300)"
   ]
  },
  {
   "cell_type": "code",
   "execution_count": 45,
   "id": "722d3215",
   "metadata": {},
   "outputs": [
    {
     "name": "stdout",
     "output_type": "stream",
     "text": [
      "This is a tuple (100, 200, 300)\n"
     ]
    }
   ],
   "source": [
    "my_tuple = (100, 200, 300)\n",
    "print(f\"This is a tuple {my_tuple}\")"
   ]
  },
  {
   "cell_type": "markdown",
   "id": "23cbd07c",
   "metadata": {},
   "source": [
    "## 21. Write a Python program to replace the last value of tuples in a list. Go to the editor\n",
    "Sample list: [(10, 20, 40), (40, 50, 60), (70, 80, 90)]\n",
    "Expected Output: [(10, 20, 100), (40, 50, 100), (70, 80, 100)]"
   ]
  },
  {
   "cell_type": "code",
   "execution_count": 46,
   "id": "9593b405",
   "metadata": {},
   "outputs": [
    {
     "name": "stdout",
     "output_type": "stream",
     "text": [
      "This is a tuple (100, 200, 300)\n"
     ]
    }
   ],
   "source": [
    "my_tuple = (100, 200, 300)\n",
    "print(f\"This is a tuple {my_tuple}\")"
   ]
  },
  {
   "cell_type": "markdown",
   "id": "0ed42e5b",
   "metadata": {},
   "source": [
    "## 22. Write a Python program to remove an empty tuple(s) from a list of tuples. Go to the editor\n",
    "Sample data: [(), (), ('',), ('a', 'b'), ('a', 'b', 'c'), ('d')]\n",
    "Expected output: [('',), ('a', 'b'), ('a', 'b', 'c'), 'd']"
   ]
  },
  {
   "cell_type": "code",
   "execution_count": 47,
   "id": "d997425d",
   "metadata": {},
   "outputs": [
    {
     "name": "stdout",
     "output_type": "stream",
     "text": [
      "The original list was [(), (), ('',), ('a', 'b'), ('a', 'b', 'c'), 'd'] and the new list is [('',), ('a', 'b'), ('a', 'b', 'c'), 'd']\n"
     ]
    }
   ],
   "source": [
    "my_list = [(), (), ('',), ('a', 'b'), ('a', 'b', 'c'), ('d')]\n",
    "new_list = [t for t in my_list if t]\n",
    "\n",
    "print(f\"The original list was {my_list} and the new list is {new_list}\")"
   ]
  },
  {
   "cell_type": "markdown",
   "id": "353cb38b",
   "metadata": {},
   "source": [
    "## 23. Write a Python program to sort a tuple by its float element. Go to the editor\n",
    "Sample data: [('item1', '12.20'), ('item2', '15.10'), ('item3', '24.5')]\n",
    "Expected Output: [('item3', '24.5'), ('item2', '15.10'), ('item1', '12.20')]"
   ]
  },
  {
   "cell_type": "code",
   "execution_count": 48,
   "id": "482db2aa",
   "metadata": {},
   "outputs": [
    {
     "name": "stdout",
     "output_type": "stream",
     "text": [
      "[('item3', '24.5'), ('item2', '15.10'), ('item1', '12.20')]\n"
     ]
    }
   ],
   "source": [
    "my_tuple = [('item1', '12.20'), ('item2', '15.10'), ('item3', '24.5')]\n",
    "\n",
    "sorted_tuple = sorted(my_tuple, key=lambda x: float(x[1]), reverse=True) #x[1] is the positon of the second element floating points for each tuple\n",
    "print(sorted_tuple)"
   ]
  },
  {
   "cell_type": "markdown",
   "id": "655389be",
   "metadata": {},
   "source": [
    "## 24. Write a Python program to count the elements in a list until an element is a tuple"
   ]
  },
  {
   "cell_type": "code",
   "execution_count": 49,
   "id": "d4005841",
   "metadata": {},
   "outputs": [
    {
     "name": "stdout",
     "output_type": "stream",
     "text": [
      "The number of elements in the list before a tuple is found: 3\n"
     ]
    }
   ],
   "source": [
    "my_list = [12, 23, 'mushfiq', (4, 5), 6, 'seven', (9, 10)]\n",
    "count = 0\n",
    "\n",
    "for item in my_list:\n",
    "    if isinstance(item, tuple):  # isinstance function to check if the current item is a tuple.\n",
    "        break\n",
    "    count += 1\n",
    "print(f\"The number of elements in the list before a tuple is found: {count}\")"
   ]
  },
  {
   "cell_type": "markdown",
   "id": "43da442f",
   "metadata": {},
   "source": [
    "## 25. Write a Python program to convert a given string list to a tuple. Go to the editor\n",
    "Original string: python 3.0\n",
    "<class 'str'>\n",
    "Convert the said string to a tuple:\n",
    "('p', 'y', 't', 'h', 'o', 'n', '3', '.', '0')\n",
    "<class 'tuple'>"
   ]
  },
  {
   "cell_type": "code",
   "execution_count": 61,
   "id": "7304d488",
   "metadata": {},
   "outputs": [
    {
     "name": "stdout",
     "output_type": "stream",
     "text": [
      "Original string: python3.0\n",
      "<class 'str'>\n",
      "Convert the said string to a tuple:\n",
      "('p', 'y', 't', 'h', 'o', 'n', '3', '.', '0')\n",
      "<class 'tuple'>\n"
     ]
    }
   ],
   "source": [
    "string_list = ['python', '3.0']\n",
    "\n",
    "# Join the strings in the list to create a single string\n",
    "joined_string = ''.join(string_list)  # join() method. In this case, we use an empty string '' as the separator between each element of the list.\n",
    "tuple_string = tuple(joined_string)\n",
    "\n",
    "print(f\"Original string: {joined_string}\\n{type(joined_string)}\")\n",
    "print(f\"Convert the said string to a tuple:\\n{tuple_string}\\n{type(tuple_string)}\")\n"
   ]
  },
  {
   "cell_type": "markdown",
   "id": "3e0bab05",
   "metadata": {},
   "source": [
    "## 26. Write a Python program to calculate the product, multiplying all the numbers in a given tuple. Go to the editor\n",
    "Original Tuple:\n",
    "(4, 3, 2, 2, -1, 18)\n",
    "Product - multiplying all the numbers of the said tuple: -864\n",
    "Original Tuple:\n",
    "(2, 4, 8, 8, 3, 2, 9)\n",
    "Product - multiplying all the numbers of the said tuple: 27648"
   ]
  },
  {
   "cell_type": "code",
   "execution_count": 62,
   "id": "3031c646",
   "metadata": {},
   "outputs": [
    {
     "name": "stdout",
     "output_type": "stream",
     "text": [
      "Product 1 Output: 14400\n",
      "Product 1 Output: 8640\n"
     ]
    }
   ],
   "source": [
    "def tuple_product(tup):\n",
    "    product = 1\n",
    "    for num in tup:\n",
    "        product *= num\n",
    "    return product\n",
    "\n",
    "tup1 = (4, 3, 5, 6, -1, -4, 10)\n",
    "tup2 = (2, 3, 4, -6, -5, 12, 1)\n",
    "print(f\"Product 1 Output: {tuple_product(tup1)}\")\n",
    "print(f\"Product 1 Output: {tuple_product(tup2)}\")"
   ]
  },
  {
   "cell_type": "markdown",
   "id": "5c3b7fc1",
   "metadata": {},
   "source": [
    "## 27. Write a Python program to calculate the average value of the numbers in a given tuple of tuples. Go to the editor\n",
    "Original Tuple:\n",
    "((10, 10, 10, 12), (30, 45, 56, 45), (81, 80, 39, 32), (1, 2, 3, 4))\n",
    "Average value of the numbers of the said tuple of tuples:\n",
    "[30.5, 34.25, 27.0, 23.25]\n",
    "Original Tuple:\n",
    "((1, 1, -5), (30, -15, 56), (81, -60, -39), (-10, 2, 3))\n",
    "Average value of the numbers of the said tuple of tuples:\n",
    "[25.5, -18.0, 3.75]"
   ]
  },
  {
   "cell_type": "code",
   "execution_count": 63,
   "id": "94554652",
   "metadata": {},
   "outputs": [
    {
     "name": "stdout",
     "output_type": "stream",
     "text": [
      "Original Tuple:\n",
      "((10, 10, 10, 12), (30, 45, 56, 45), (81, 80, 39, 32), (1, 2, 3, 4))\n",
      "Average value of the numbers of the said tuple of tuples:\n",
      "[30.5, 34.25, 27.0, 23.25]\n",
      "\n",
      "Original Tuple:\n",
      "((1, 1, -5), (30, -15, 56), (81, -60, -39), (-10, 2, 3))\n",
      "Average value of the numbers of the said tuple of tuples:\n",
      "[25.5, -18.0, 3.75]\n"
     ]
    }
   ],
   "source": [
    "def average_tuple_tuples(t):\n",
    "    \n",
    "    # Determine the number of columns (n) and rows (m) in the tuple of tuples\n",
    "    n = len(t[0])\n",
    "    m = len(t)\n",
    "    \n",
    "    # creating empty list to store the average value\n",
    "    result = []\n",
    "    \n",
    "    # Iterate over eah column of the tuple of tuples\n",
    "    for i in range(n):\n",
    "    # Initializing a variable to store the sum\n",
    "        sum = 0\n",
    "        \n",
    "        # Iterate over each row of the tuples of tuples and add the number in the current column to the sum\n",
    "        for j in range(m):\n",
    "            sum += t[j][i]  # sum += t[j][i] in this code adds the value in the i-th column and j-th row of the tuple of tuples to the sum. \n",
    "            \n",
    "        # Calculate the average value of the numbers in the current column and append\n",
    "        result.append(sum/m)\n",
    "        \n",
    "    return result\n",
    "\n",
    "t1 = ((10, 10, 10, 12), (30, 45, 56, 45), (81, 80, 39, 32), (1, 2, 3, 4))\n",
    "print(\"Original Tuple:\")\n",
    "print(t1)\n",
    "print(\"Average value of the numbers of the said tuple of tuples:\")\n",
    "print(average_tuple_tuples(t1))\n",
    "\n",
    "t2 = ((1, 1, -5), (30, -15, 56), (81, -60, -39), (-10, 2, 3))\n",
    "print(\"\\nOriginal Tuple:\")\n",
    "print(t2)\n",
    "print(\"Average value of the numbers of the said tuple of tuples:\")\n",
    "print(average_tuple_tuples(t2))"
   ]
  },
  {
   "cell_type": "markdown",
   "id": "4d87ad13",
   "metadata": {},
   "source": [
    "## 28. Write a Python program to convert a tuple of string values to a tuple of integer values. Go to the editor\n",
    "Original tuple values:\n",
    "(('333', '33'), ('1416', '55'))\n",
    "New tuple values:\n",
    "((333, 33), (1416, 55))"
   ]
  },
  {
   "cell_type": "code",
   "execution_count": 64,
   "id": "9259a433",
   "metadata": {},
   "outputs": [
    {
     "name": "stdout",
     "output_type": "stream",
     "text": [
      "convert a tuple of string values to a tuple of integer values: ((333, 33), (1416, 55))\n"
     ]
    }
   ],
   "source": [
    "def strings_to_integer(t):\n",
    "    return tuple(tuple(int(s) for s in tup) for tup in t)\n",
    "\n",
    "t1 = (('333', '33'), ('1416', '55'))\n",
    "print(f\"convert a tuple of string values to a tuple of integer values: {strings_to_integer(t1)}\")"
   ]
  },
  {
   "cell_type": "markdown",
   "id": "0c5c3cad",
   "metadata": {},
   "source": [
    "## 29. Write a Python program to convert a given tuple of positive integers into an integer. Go to the editor\n",
    "Original tuple:\n",
    "(1, 2, 3)\n",
    "Convert the said tuple of positive integers into an integer:\n",
    "123\n",
    "Original tuple:\n",
    "(10, 20, 40, 5, 70)\n",
    "Convert the said tuple of positive integers into an integer:\n",
    "102040570"
   ]
  },
  {
   "cell_type": "code",
   "execution_count": 65,
   "id": "c6febfc4",
   "metadata": {},
   "outputs": [
    {
     "name": "stdout",
     "output_type": "stream",
     "text": [
      "tuple of positive integers into an integer: 123\n",
      "tuple of positive integers into an integer: 102040570\n"
     ]
    }
   ],
   "source": [
    "def tuple_to_int(t):\n",
    "    \n",
    "    # converting each element of the tuple to a string and concatenate them\n",
    "    a = ''.join(str(i) for i in t)\n",
    "    # covert the result string to an integer as a whole\n",
    "    return int(a)\n",
    "\n",
    "t1 = (1, 2, 3)\n",
    "print(f\"tuple of positive integers into an integer: {tuple_to_int(t1)}\")  \n",
    "\n",
    "t2 = (10, 20, 40, 5, 70)\n",
    "print(f\"tuple of positive integers into an integer: {tuple_to_int(t2)}\") "
   ]
  },
  {
   "cell_type": "markdown",
   "id": "5bb4859e",
   "metadata": {},
   "source": [
    "## 30. Write a Python program to check if a specified element appears in a tuple of tuples. Go to the editor\n",
    "Original list:\n",
    "(('Red', 'White', 'Blue'), ('Green', 'Pink', 'Purple'), ('Orange', 'Yellow', 'Lime'))\n",
    "Check if White present in said tuple of tuples!\n",
    "True\n",
    "Check if White present in said tuple of tuples!\n",
    "True\n",
    "Check if Olive present in said tuple of tuples!\n",
    "False"
   ]
  },
  {
   "cell_type": "code",
   "execution_count": 85,
   "id": "fe691f7a",
   "metadata": {},
   "outputs": [
    {
     "name": "stdout",
     "output_type": "stream",
     "text": [
      "True\n",
      "True\n",
      "False\n"
     ]
    }
   ],
   "source": [
    "def element_in_tuple(element, tuple_of_tuples):\n",
    "    for tup in tuple_of_tuples:\n",
    "        if element in tup:\n",
    "            return True\n",
    "    return False\n",
    "\n",
    "t = (('Red', 'White', 'Blue'), ('Green', 'Pink', 'Purple'), ('Orange', 'Yellow', 'Lime'))\n",
    "print(element_in_tuple('White', t))\n",
    "print(element_in_tuple('Pink', t))\n",
    "print(element_in_tuple('Olive', t))\n",
    "\n",
    "# Alternative Method\n",
    "\n",
    "color = [ ]"
   ]
  },
  {
   "cell_type": "markdown",
   "id": "08ad55b5",
   "metadata": {},
   "source": []
  },
  {
   "cell_type": "code",
   "execution_count": null,
   "id": "e823cdb1",
   "metadata": {},
   "outputs": [],
   "source": []
  },
  {
   "cell_type": "markdown",
   "id": "346ef3c5",
   "metadata": {},
   "source": [
    "# ***** Example 4: Dictionary"
   ]
  },
  {
   "cell_type": "markdown",
   "id": "aacff7ab",
   "metadata": {},
   "source": [
    "## 1. Write a Python script to sort (ascending and descending) a dictionary by value. "
   ]
  },
  {
   "cell_type": "code",
   "execution_count": 124,
   "id": "c91abce4",
   "metadata": {},
   "outputs": [
    {
     "name": "stdout",
     "output_type": "stream",
     "text": [
      "{'banna': 2, 'sumon': 4, 'hassan': 5, 'kobir': 10}\n",
      "{'kobir': 10, 'hassan': 5, 'sumon': 4, 'banna': 2}\n"
     ]
    }
   ],
   "source": [
    "my_dict = {'hassan': 5, 'banna': 2, 'kobir': 10, 'sumon': 4}\n",
    "sort_dict_ascen = dict(sorted(my_dict.items(), key=lambda item: item[1], reverse=False))\n",
    "sort_dict_desc = dict(sorted(my_dict.items(), key=lambda item: item[1], reverse=True))\n",
    "print(sort_dict)\n",
    "print(sort_dict_desc)"
   ]
  },
  {
   "cell_type": "markdown",
   "id": "cbf1f5bf",
   "metadata": {},
   "source": [
    "## 2. Write a Python script to add a key to a dictionary. "
   ]
  },
  {
   "cell_type": "code",
   "execution_count": 127,
   "id": "8ae9d4f3",
   "metadata": {},
   "outputs": [
    {
     "data": {
      "text/plain": [
       "{'sakib': 3, 'asif': 5, 'robin': 4}"
      ]
     },
     "execution_count": 127,
     "metadata": {},
     "output_type": "execute_result"
    }
   ],
   "source": [
    "my_dict = {'sakib': 3, 'asif': 5}\n",
    "my_dict['robin'] = 4\n",
    "my_dict"
   ]
  },
  {
   "cell_type": "markdown",
   "id": "191f718e",
   "metadata": {},
   "source": [
    "## 3. Write a Python script to concatenate the following dictionaries to create a new one."
   ]
  },
  {
   "cell_type": "code",
   "execution_count": 135,
   "id": "1b36d688",
   "metadata": {},
   "outputs": [
    {
     "name": "stdout",
     "output_type": "stream",
     "text": [
      "{'sakib': 15, 'robin': 91, 'hassan': 25, 'karim': 99}\n",
      "{'sakib': 15, 'robin': 91, 'hassan': 25, 'karim': 99}\n"
     ]
    }
   ],
   "source": [
    "dict1 = {'sakib': 15, 'robin': 91}\n",
    "dict2 = {'hassan': 25, 'karim': 99}\n",
    "\n",
    "concat_dict = {**dict1, **dict2}\n",
    "print(concat_dict)\n",
    "\n",
    "concat_dict1 = dict1.copy()\n",
    "concat_dict1.update(dict2)\n",
    "print(concat_dict1)\n"
   ]
  },
  {
   "cell_type": "markdown",
   "id": "494f0ecc",
   "metadata": {},
   "source": [
    "## 4. Write a Python script to check whether a given key already exists in a dictionary. "
   ]
  },
  {
   "cell_type": "code",
   "execution_count": 137,
   "id": "893f7aef",
   "metadata": {},
   "outputs": [
    {
     "name": "stdout",
     "output_type": "stream",
     "text": [
      "The Key age exists in the dictionary\n"
     ]
    }
   ],
   "source": [
    "my_dict = {'name': 'Sakib', 'age': 25, 'capital': 'Dhaka'}\n",
    "\n",
    "check = 'age'  # I should check the key value \n",
    "\n",
    "if check in my_dict:\n",
    "    print(f\"The Key {check} exists in the dictionary\")\n",
    "else:\n",
    "    print(f\"The key {check} does not exist in the dictionary\")"
   ]
  },
  {
   "cell_type": "markdown",
   "id": "abd8fe2e",
   "metadata": {},
   "source": [
    "## 5. Write a Python program to iterate over dictionaries using for loops."
   ]
  },
  {
   "cell_type": "code",
   "execution_count": 139,
   "id": "8e72575e",
   "metadata": {},
   "outputs": [
    {
     "name": "stdout",
     "output_type": "stream",
     "text": [
      "name\n",
      "age\n",
      "city\n",
      "John\n",
      "50\n",
      "Dhaka\n",
      "name: John\n",
      "age: 50\n",
      "city: Dhaka\n"
     ]
    }
   ],
   "source": [
    "my_dict = {'name': \"John\", 'age': 50, 'city': 'Dhaka'}\n",
    "\n",
    "\n",
    "for key in my_dict:\n",
    "    print(key)\n",
    "    \n",
    "for value in my_dict.values():\n",
    "    print(value)\n",
    "    \n",
    "for key, value in my_dict.items():\n",
    "    print(f\"{key}: {value}\")"
   ]
  },
  {
   "cell_type": "markdown",
   "id": "0ae8ddc6",
   "metadata": {},
   "source": [
    "## 6. Write a Python script to generate and print a dictionary that contains a number (between 1 and n) in the form (x, x*x)."
   ]
  },
  {
   "cell_type": "code",
   "execution_count": 143,
   "id": "e0f1e620",
   "metadata": {},
   "outputs": [
    {
     "name": "stdout",
     "output_type": "stream",
     "text": [
      "Enter a Number: 10\n",
      "{1: 1, 2: 4, 3: 9, 4: 16, 5: 25, 6: 36, 7: 49, 8: 64, 9: 81, 10: 100}\n"
     ]
    }
   ],
   "source": [
    "n = int(input(\"Enter a Number: \"))\n",
    "my_dict = {}\n",
    "\n",
    "for i in range(1, n+1):\n",
    "    my_dict[i] = i*i\n",
    "    \n",
    "print(my_dict)"
   ]
  },
  {
   "cell_type": "markdown",
   "id": "bc580927",
   "metadata": {},
   "source": [
    "## 7. Write a Python script to print a dictionary where the keys are numbers between 1 and 15 (both included) and the values are the square of the keys."
   ]
  },
  {
   "cell_type": "code",
   "execution_count": 146,
   "id": "ccf76e0f",
   "metadata": {},
   "outputs": [
    {
     "name": "stdout",
     "output_type": "stream",
     "text": [
      "{1: 1, 2: 4, 3: 9, 4: 16, 5: 25, 6: 36, 7: 49, 8: 64, 9: 81, 10: 100, 11: 121, 12: 144, 13: 169, 14: 196, 15: 225}\n"
     ]
    }
   ],
   "source": [
    "my_dict = {}\n",
    "\n",
    "for i in range(1, 16):\n",
    "    my_dict[i] = i*i\n",
    "\n",
    "print(my_dict)"
   ]
  },
  {
   "cell_type": "markdown",
   "id": "a5ce5808",
   "metadata": {},
   "source": [
    "## 8. Write a Python script to merge two Python dictionaries."
   ]
  },
  {
   "cell_type": "code",
   "execution_count": 145,
   "id": "a7adea81",
   "metadata": {},
   "outputs": [
    {
     "name": "stdout",
     "output_type": "stream",
     "text": [
      "{'a': 10, 'b': 20, 'c': 30, 'd': 40}\n"
     ]
    }
   ],
   "source": [
    "dict1 = {'a': 10, 'b': 20}\n",
    "dict2 = {'c': 30, 'd': 40}\n",
    "\n",
    "merged_dict = {**dict1, **dict2}\n",
    "\n",
    "print(merged_dict)"
   ]
  },
  {
   "cell_type": "markdown",
   "id": "19174352",
   "metadata": {},
   "source": [
    "## 9. Write a Python program to iterate over dictionaries using for loops."
   ]
  },
  {
   "cell_type": "code",
   "execution_count": 148,
   "id": "ca8ac3fa",
   "metadata": {},
   "outputs": [
    {
     "name": "stdout",
     "output_type": "stream",
     "text": [
      "apple\n",
      "banana\n",
      "orange\n",
      "peach\n",
      "watermelon\n",
      "kiwi\n",
      "pineapple\n",
      "pear\n",
      "grape\n",
      "2\n",
      "3\n",
      "4\n",
      "5\n",
      "6\n",
      "7\n",
      "8\n",
      "9\n",
      "10\n",
      "apple 2\n",
      "banana 3\n",
      "orange 4\n",
      "peach 5\n",
      "watermelon 6\n",
      "kiwi 7\n",
      "pineapple 8\n",
      "pear 9\n",
      "grape 10\n"
     ]
    }
   ],
   "source": [
    "my_dict = {\"apple\": 2, \"banana\": 3, \"orange\": 4, \"peach\": 5, \"watermelon\": 6, \"kiwi\": 7, \"pineapple\": 8,\n",
    "           \"pear\": 9, \"grape\": 10}\n",
    "\n",
    "# Iterate over keys\n",
    "\n",
    "for key in my_dict:\n",
    "    print(key)\n",
    "    \n",
    "for value in my_dict.values():\n",
    "    print(value)\n",
    "\n",
    "# Iterate over the items (key-value pairs) of the dictionary\n",
    "for key, value in my_dict.items():\n",
    "    print(key, value)"
   ]
  },
  {
   "cell_type": "markdown",
   "id": "666e97ed",
   "metadata": {},
   "source": [
    "## 10. Write a Python program to sum all the items in a dictionary. "
   ]
  },
  {
   "cell_type": "code",
   "execution_count": 155,
   "id": "fb8856c8",
   "metadata": {},
   "outputs": [
    {
     "name": "stdout",
     "output_type": "stream",
     "text": [
      "sum of all values in dictionary: 99\n"
     ]
    }
   ],
   "source": [
    "my_dict = {\"gpu\": 22, \"cpu\": 30, \"motherboard\": 14, 'monitor': 33}\n",
    "\n",
    "sum_val = sum(my_dict.values())\n",
    "print(f\"sum of all values in dictionary: {sum_val}\")"
   ]
  },
  {
   "cell_type": "markdown",
   "id": "87b8f126",
   "metadata": {},
   "source": [
    "## 11. Write a Python program to multiply all the items in a dictionary. "
   ]
  },
  {
   "cell_type": "code",
   "execution_count": 156,
   "id": "01c935b1",
   "metadata": {},
   "outputs": [
    {
     "name": "stdout",
     "output_type": "stream",
     "text": [
      "The Product of all the values in the dictionary is: 304920\n"
     ]
    }
   ],
   "source": [
    "my_dict = {\"gpu\": 22, \"cpu\": 30, \"motherboard\": 14, 'monitor': 33}\n",
    "\n",
    "product = 1\n",
    "for value in my_dict.values():\n",
    "    product *= value\n",
    "    \n",
    "print(f\"The Product of all the values in the dictionary is: {product}\")"
   ]
  },
  {
   "cell_type": "markdown",
   "id": "fa05ec41",
   "metadata": {},
   "source": [
    "## 12. Write a Python program to remove a key from a dictionary. "
   ]
  },
  {
   "cell_type": "code",
   "execution_count": 158,
   "id": "5cae5f34",
   "metadata": {},
   "outputs": [
    {
     "name": "stdout",
     "output_type": "stream",
     "text": [
      "{'gpu': 22, 'motherboard': 14, 'monitor': 33}\n"
     ]
    }
   ],
   "source": [
    "my_dict = {\"gpu\": 22, \"cpu\": 30, \"motherboard\": 14, 'monitor': 33}\n",
    "\n",
    "del my_dict[\"cpu\"]\n",
    "print(my_dict)"
   ]
  },
  {
   "cell_type": "markdown",
   "id": "081ef2f1",
   "metadata": {},
   "source": [
    "## 13. Write a Python program to map two lists into a dictionary."
   ]
  },
  {
   "cell_type": "code",
   "execution_count": 161,
   "id": "ba810a98",
   "metadata": {},
   "outputs": [
    {
     "name": "stdout",
     "output_type": "stream",
     "text": [
      "{'gpu': 4, 'cpu': 5, 'ssd card': 6}\n"
     ]
    }
   ],
   "source": [
    "keys = ['gpu', 'cpu', 'ssd card']\n",
    "values = [4,5,6]\n",
    "\n",
    "my_dict = dict(zip(keys, values))  # zip providing mapping for key and value lists and coverting them into dictionary\n",
    "print(my_dict)\n"
   ]
  },
  {
   "cell_type": "markdown",
   "id": "3ec6fc1e",
   "metadata": {},
   "source": [
    "## 14. Write a Python program to sort a given dictionary by key."
   ]
  },
  {
   "cell_type": "code",
   "execution_count": 162,
   "id": "36f6cb79",
   "metadata": {},
   "outputs": [
    {
     "name": "stdout",
     "output_type": "stream",
     "text": [
      "{'cpu': 30, 'gpu': 22, 'monitor': 33, 'motherboard': 14}\n"
     ]
    }
   ],
   "source": [
    "my_dict = {\"gpu\": 22, \"cpu\": 30, \"motherboard\": 14, 'monitor': 33}\n",
    "\n",
    "sorted_dict = dict(sorted(my_dict.items()))\n",
    "print(sorted_dict)"
   ]
  },
  {
   "cell_type": "markdown",
   "id": "6e456397",
   "metadata": {},
   "source": [
    "## 15. Write a Python program to get the maximum and minimum values of a dictionary."
   ]
  },
  {
   "cell_type": "code",
   "execution_count": 168,
   "id": "a29d9f47",
   "metadata": {},
   "outputs": [
    {
     "name": "stdout",
     "output_type": "stream",
     "text": [
      "45\n",
      "14\n",
      "45\n",
      "14\n"
     ]
    }
   ],
   "source": [
    "my_dict = {\"gpu\": 22, \"cpu\": 30, \"motherboard\": 14, 'monitor': 33, 'ram': 45}\n",
    "\n",
    "def get_max(dict1):\n",
    "    max_value = float('-inf') #  special floating-point value that represents negative infinity.\n",
    "    for value in dict1.values():\n",
    "        if value > max_value:\n",
    "            max_value = value\n",
    "    return max_value\n",
    "\n",
    "def get_min(dict1):\n",
    "    min_value = float('inf')\n",
    "    for value in dict1.values():\n",
    "        if value < min_value:\n",
    "            min_value = value\n",
    "    return min_value\n",
    "\n",
    "max_value = get_max(my_dict)\n",
    "min_value = get_min(my_dict)\n",
    "print(max_value)\n",
    "print(min_value)\n",
    "\n",
    "### Alternative Method using None data dtype\n",
    "\n",
    "def get_max(dict1):\n",
    "    max_value = None\n",
    "    for value in dict1.values():\n",
    "        if max_value is None or value > max_value:\n",
    "            max_value = value\n",
    "    return max_value\n",
    "\n",
    "def get_min(dict1):\n",
    "    min_value = None\n",
    "    for value in dict1.values():\n",
    "        if min_value is None or value < min_value:\n",
    "            min_value = value\n",
    "            \n",
    "    return min_value\n",
    "\n",
    "max_value = get_max(my_dict)\n",
    "min_value = get_min(my_dict)\n",
    "print(max_value)\n",
    "print(min_value)"
   ]
  },
  {
   "cell_type": "markdown",
   "id": "874eb710",
   "metadata": {},
   "source": [
    "## 16. Write a Python program to get a dictionary from an object's fields. "
   ]
  },
  {
   "cell_type": "code",
   "execution_count": 174,
   "id": "76171ece",
   "metadata": {},
   "outputs": [
    {
     "name": "stdout",
     "output_type": "stream",
     "text": [
      "{'name': 'Sakb', 'age': 25, 'address': 'Zigatola,Dhaka'}\n",
      "{'address': 'Zigatola,Dhaka', 'age': 25, 'name': 'Sakb'}\n"
     ]
    }
   ],
   "source": [
    "class Person:\n",
    "    def __init__(self, name, age, address):\n",
    "        self.name = name\n",
    "        self.age = age\n",
    "        self.address = address\n",
    "        \n",
    "person = Person(\"Sakb\", 25, \"Zigatola,Dhaka\")\n",
    "dict_person = vars(person)\n",
    "print(dict_person)\n",
    "\n",
    "# More complex version\n",
    "\n",
    "class Person:\n",
    "    def __init__(self, name, age, address):\n",
    "        self.name = name\n",
    "        self.age = age\n",
    "        self.address = address\n",
    "        \n",
    "person = Person(\"Sakib\", 25, \"Zigatola,Dhaka\")\n",
    "\n",
    "def object_to_dict(obj):\n",
    "    obj_dict = {}\n",
    "    for attributes in dir(obj):\n",
    "        if not attributes.startswith(\"__\"):\n",
    "            obj_dict[attributes] = getattr(obj, attributes)\n",
    "        \n",
    "    return obj_dict\n",
    "\n",
    "person_dict = object_to_dict(person)\n",
    "\n",
    "print(person_dict)"
   ]
  },
  {
   "cell_type": "markdown",
   "id": "d27a4ff9",
   "metadata": {},
   "source": [
    "## 17. Write a Python program to remove duplicates from the dictionary. "
   ]
  },
  {
   "cell_type": "code",
   "execution_count": 29,
   "id": "e0b9993b",
   "metadata": {},
   "outputs": [
    {
     "name": "stdout",
     "output_type": "stream",
     "text": [
      "New Dictionary after Removing duplicates in values part:  {'a': 1, 'b': 2, 'd': 3}\n"
     ]
    }
   ],
   "source": [
    "d = {'a': 1, 'b': 2, 'c': 1, 'd': 3, 'e': 2}\n",
    "\n",
    "new_dict = {}\n",
    "\n",
    "for key, value in d.items():\n",
    "    if value not in new_dict.values():\n",
    "        new_dict[key] = value\n",
    "        \n",
    "print(\"New Dictionary after Removing duplicates in values part: \", new_dict)"
   ]
  },
  {
   "cell_type": "markdown",
   "id": "ca820871",
   "metadata": {},
   "source": [
    "## 18. Write a Python program to check if a dictionary is empty or not."
   ]
  },
  {
   "cell_type": "code",
   "execution_count": 81,
   "id": "e95c0dbd",
   "metadata": {},
   "outputs": [
    {
     "name": "stdout",
     "output_type": "stream",
     "text": [
      "The dictionary is empty\n"
     ]
    }
   ],
   "source": [
    "a = {}\n",
    "\n",
    "# Check if the dictionary is empty or not\n",
    "if not a:\n",
    "    print(\"The dictionary is empty\")\n",
    "else:\n",
    "    print(\"The dictionary is not empty\")\n"
   ]
  },
  {
   "cell_type": "markdown",
   "id": "7d83b17b",
   "metadata": {},
   "source": [
    "## 19. Write a Python program to combine two dictionary by adding values for common keys. Go to the editor\n",
    "d1 = {'a': 100, 'b': 200, 'c':300}\n",
    "d2 = {'a': 300, 'b': 200, 'd':400}\n",
    "Sample output: Counter({'a': 400, 'b': 400, 'd': 400, 'c': 300})"
   ]
  },
  {
   "cell_type": "code",
   "execution_count": 82,
   "id": "1aa5598e",
   "metadata": {},
   "outputs": [
    {
     "name": "stdout",
     "output_type": "stream",
     "text": [
      "Counter({'a': 400, 'b': 400, 'd': 400, 'c': 300})\n",
      "Using after USer Defined Function:  {'a': 400, 'b': 400, 'c': 300, 'd': 400}\n"
     ]
    }
   ],
   "source": [
    "from collections import Counter\n",
    "d1 = {'a': 100, 'b': 200, 'c':300}\n",
    "d2 = {'a': 300, 'b': 200, 'd':400}\n",
    "\n",
    "combined = Counter(d1) + Counter(d2)\n",
    "print(combined)\n",
    "\n",
    "# Alternative Method: \n",
    "\n",
    "def combine_dicts(d1, d2):\n",
    "    combine = {}\n",
    "    \n",
    "    for key in d1:\n",
    "        if key in d2:\n",
    "            combine[key] = d1[key] + d2[key]\n",
    "        else:\n",
    "            combine[key] = d1[key]\n",
    "            \n",
    "    \n",
    "    for key in d2:\n",
    "        if key not in d1:\n",
    "            combine[key] = d2[key]\n",
    "    return combine\n",
    "\n",
    "combine = combine_dicts(d1, d2)\n",
    "\n",
    "# Print the combined dictionary\n",
    "print(\"Using after USer Defined Function: \", combine)"
   ]
  },
  {
   "cell_type": "markdown",
   "id": "ad746430",
   "metadata": {},
   "source": [
    "## 20. Write a Python program to print all distinct values in a dictionary. Go to the editor\n",
    "Sample Data : [{\"V\":\"S001\"}, {\"V\": \"S002\"}, {\"VI\": \"S001\"}, {\"VI\": \"S005\"}, {\"VII\":\"S005\"}, {\"V\":\"S009\"},{\"VIII\":\"S007\"}]\n",
    "Expected Output : Unique Values: {'S005', 'S002', 'S007', 'S001', 'S009'}"
   ]
  },
  {
   "cell_type": "code",
   "execution_count": 43,
   "id": "99ea562e",
   "metadata": {},
   "outputs": [
    {
     "name": "stdout",
     "output_type": "stream",
     "text": [
      "Unique Values:  {'S001', 'S007', 'S002', 'S009', 'S005'}\n"
     ]
    }
   ],
   "source": [
    "data = [{\"V\":\"S001\"}, {\"V\": \"S002\"}, {\"VI\": \"S001\"}, {\"VI\": \"S005\"}, {\"VII\":\"S005\"}, {\"V\":\"S009\"},{\"VIII\":\"S007\"}]\n",
    "\n",
    "unique_values = set()  # set() data type in Python is designed to store unique values only. \n",
    "                        # When you add a value to a set that is already in the set, the set does not add it again.\n",
    "\n",
    "for d in data:\n",
    "    for value in d.values():\n",
    "        unique_values.add(value)\n",
    "        \n",
    "print(\"Unique Values: \", unique_values)"
   ]
  },
  {
   "cell_type": "markdown",
   "id": "92eff6f9",
   "metadata": {},
   "source": [
    "## 21. Write a Python program to create and display all combinations of letters, selecting each letter from a different key in a dictionary. Go to the editor\n",
    "Sample data : {'1':['a','b'], '2':['c','d']}\n",
    "Expected Output:\n",
    "ac\n",
    "ad\n",
    "bc\n",
    "bd"
   ]
  },
  {
   "cell_type": "code",
   "execution_count": 84,
   "id": "b939b8c0",
   "metadata": {},
   "outputs": [
    {
     "name": "stdout",
     "output_type": "stream",
     "text": [
      "ac\n",
      "ad\n",
      "bc\n",
      "bd\n"
     ]
    }
   ],
   "source": [
    "import itertools\n",
    "\n",
    "data = {'1':['a', 'b'], '2': ['c','d']}\n",
    "letter_lists = [data[k] for k in sorted(data.keys())]\n",
    "combinations = list(itertools.product(*letter_lists))\n",
    "\n",
    "for combination in combinations:\n",
    "    print(''.join(combination))"
   ]
  },
  {
   "cell_type": "markdown",
   "id": "ad92aa3d",
   "metadata": {},
   "source": [
    "## 22. Write a Python program to find the highest 3 values of corresponding keys in a dictionary"
   ]
  },
  {
   "cell_type": "code",
   "execution_count": 109,
   "id": "025bfbd7",
   "metadata": {},
   "outputs": [
    {
     "name": "stdout",
     "output_type": "stream",
     "text": [
      "Highest Three Value in Dictionary: \n",
      "a: 700\n",
      "c: 500\n",
      "e: 300\n"
     ]
    }
   ],
   "source": [
    "my_dict = {'a': 300, 'b': 200, 'c': 500, 'd': 100, 'e': 700, 'f': 200}\n",
    "values = list(my_dict.values())\n",
    "values.sort(reverse=True)\n",
    "top_3_values = values[:3]\n",
    "\n",
    "top_3_keys = []\n",
    "for key, value in my_dict.items():\n",
    "    if value in top_3_values:\n",
    "        top_3_keys.append(key)\n",
    "        \n",
    "print(\"Highest Three Value in Dictionary: \")\n",
    "for i in range(len(top_3_keys)):\n",
    "    print(\"{}: {}\".format(top_3_keys[i], top_3_values[i]))\n",
    "    "
   ]
  },
  {
   "cell_type": "markdown",
   "id": "5cbaa9a1",
   "metadata": {},
   "source": [
    "## 23. Write a Python program to combine values in a list of dictionaries. Go to the editor\n",
    "Sample data: [{'item': 'item1', 'amount': 400}, {'item': 'item2', 'amount': 300}, {'item': 'item1', 'amount': 750}]\n",
    "Expected Output: Counter({'item1': 1150, 'item2': 300})"
   ]
  },
  {
   "cell_type": "code",
   "execution_count": 113,
   "id": "2ea33527",
   "metadata": {},
   "outputs": [
    {
     "name": "stdout",
     "output_type": "stream",
     "text": [
      "{'item1': 1150, 'item2': 300}\n",
      "{'item1': 1150, 'item2': 300}\n"
     ]
    }
   ],
   "source": [
    "from collections import defaultdict\n",
    "\n",
    "data =  [{'item': 'item1', 'amount': 400}, {'item': 'item2', 'amount': 300}, {'item': 'item1', 'amount': 750}]\n",
    "\n",
    "combine = defaultdict(int)\n",
    "for d in data:\n",
    "    combine[d['item']] += d['amount']  # The default value is 0 \n",
    "                                        # so there is no need to  \n",
    "                                        # enter the key first \n",
    "    \n",
    "print(dict(combine))\n",
    "\n",
    "# Another Method\n",
    "\n",
    "data = [{'item': 'item1', 'amount': 400}, {'item': 'item2', 'amount': 300}, {'item': 'item1', 'amount': 750}]\n",
    "\n",
    "result = {}\n",
    "for d in data:\n",
    "    item = d['item']\n",
    "    amount = d['amount']\n",
    "    \n",
    "    \"\"\" These lines check if the item key already exists in the result dictionary. \n",
    "    If it does, the amount value is added to the existing value.\n",
    "    If it doesn't, a new key-value pair is created with the item as the key and the amount as the value. \"\"\"\n",
    "    \n",
    "    if item in result:\n",
    "        result[item] += amount\n",
    "    else:\n",
    "        result[item] = amount\n",
    "\n",
    "print(result)"
   ]
  },
  {
   "cell_type": "markdown",
   "id": "fbe3f417",
   "metadata": {},
   "source": [
    "## 24. Write a Python program to create a dictionary from a string. Go to the editor\n",
    "Note: Track the count of the letters from the string.\n",
    "Sample string : 'w3resource'\n",
    "Expected output: {'w': 1, '3': 1, 'r': 2, 'e': 2, 's': 1, 'o': 1, 'u': 1, 'c': 1}"
   ]
  },
  {
   "cell_type": "code",
   "execution_count": 1,
   "id": "7b9f03a0",
   "metadata": {},
   "outputs": [
    {
     "name": "stdout",
     "output_type": "stream",
     "text": [
      "{'w': 1, '3': 1, 'r': 2, 'e': 2, 's': 1, 'o': 1, 'u': 1, 'c': 1}\n"
     ]
    }
   ],
   "source": [
    "string = 'w3resource'\n",
    "\n",
    "letter_count = {}\n",
    "\n",
    "for char in string:\n",
    "    if char in letter_count:\n",
    "        letter_count[char] += 1\n",
    "    else:\n",
    "        letter_count[char] = 1\n",
    "        \n",
    "print(letter_count)"
   ]
  },
  {
   "cell_type": "markdown",
   "id": "65a82f88",
   "metadata": {},
   "source": [
    "## 25. Write a Python program to print a dictionary in table format."
   ]
  },
  {
   "cell_type": "code",
   "execution_count": 135,
   "id": "61deeba7",
   "metadata": {},
   "outputs": [
    {
     "name": "stdout",
     "output_type": "stream",
     "text": [
      "Raw Version: \n",
      "alpha gamma sigma\n",
      "2 12 22\n",
      "4 14 24\n",
      "6 16 26\n",
      "8 18 28\n",
      "10 20 30\n",
      "╒═══════╤═════════╤═════════╤═════════╕\n",
      "│   key │   alpha │   gamma │   sigma │\n",
      "╞═══════╪═════════╪═════════╪═════════╡\n",
      "│     2 │       2 │      12 │      22 │\n",
      "├───────┼─────────┼─────────┼─────────┤\n",
      "│     4 │       4 │      14 │      24 │\n",
      "├───────┼─────────┼─────────┼─────────┤\n",
      "│     6 │       6 │      16 │      26 │\n",
      "├───────┼─────────┼─────────┼─────────┤\n",
      "│     8 │       8 │      18 │      28 │\n",
      "├───────┼─────────┼─────────┼─────────┤\n",
      "│    10 │      10 │      20 │      30 │\n",
      "╘═══════╧═════════╧═════════╧═════════╛\n"
     ]
    }
   ],
   "source": [
    "# First Version:\n",
    "\n",
    "dict_values = {'alpha':[2,4,6,8,10], 'gamma': [12,14,16,18,20], 'sigma': [22,24,26,28,30]}\n",
    "\n",
    "print(\"Raw Version: \")\n",
    "for row in zip(*([key] + (value) for key, value in sorted(dict_values.items()))):\n",
    "    print(*row)\n",
    "    \n",
    "# I wanna uses tabulate to print the dictionary as a table using fancy_grid\n",
    "\n",
    "from tabulate import tabulate\n",
    "\n",
    "dict_values = {'alpha':[2,4,6,8,10], 'gamma': [12,14,16,18,20], 'sigma': [22,24,26,28,30]}\n",
    "\n",
    "headers = ['key'] + list(dict_values.keys())\n",
    "rows = []\n",
    "for i in range(len(list(dict_values.values())[0])):\n",
    "    row = []\n",
    "    for key in headers:\n",
    "        if key == 'key':\n",
    "            row.append(list(dict_values.values())[0][i])\n",
    "        else:\n",
    "            row.append(list(dict_values.values())[list(dict_values.keys()).index(key)][i])\n",
    "            \n",
    "    rows.append(row)\n",
    "    \n",
    "print(tabulate(rows, headers=headers, tablefmt='fancy_grid'))\n",
    "            "
   ]
  },
  {
   "cell_type": "markdown",
   "id": "1965fa57",
   "metadata": {},
   "source": [
    "For more information about tabulate: https://openbase.com/python/tabulate/documentation"
   ]
  },
  {
   "cell_type": "markdown",
   "id": "c0e8915b",
   "metadata": {},
   "source": [
    "## 26. Write a Python program to count the values associated with a key in a dictionary."
   ]
  },
  {
   "cell_type": "code",
   "execution_count": 11,
   "id": "9ba6a591",
   "metadata": {},
   "outputs": [
    {
     "name": "stdout",
     "output_type": "stream",
     "text": [
      "1\n",
      "1\n",
      "1\n",
      "1\n",
      "0\n",
      "1\n",
      "1\n",
      "1\n",
      "1\n",
      "0\n"
     ]
    }
   ],
   "source": [
    "def count_key_in_dict(key, dict_val):\n",
    "    count = 0\n",
    "    for k in dict_val.keys():\n",
    "        if k == key:\n",
    "            count += 1\n",
    "    return count\n",
    "\n",
    "dict_val = {'a': 1, 'b': 2, 'c': 1, 'd': 3}\n",
    "print(count_key_in_dict('a', dict_val)) # Output: 1\n",
    "print(count_key_in_dict('b', dict_val)) # Output: 1\n",
    "print(count_key_in_dict('c', dict_val)) # Output: 1\n",
    "print(count_key_in_dict('d', dict_val)) # Output: 1\n",
    "print(count_key_in_dict('e', dict_val)) \n",
    "\n",
    "# Class-Object Method:\n",
    "\n",
    "class DictCounter:\n",
    "    def __init__(self, dict_values):\n",
    "        self.dict_values = dict_values\n",
    "        \n",
    "    def count_key_in_dict(self, key):\n",
    "        count = 0\n",
    "        for k in self.dict_values.keys():\n",
    "            if k == key:\n",
    "                count += 1\n",
    "        return count\n",
    "    \n",
    "my_dict = {'a': 1, 'b': 2, 'c': 1, 'd': 3}\n",
    "counter = DictCounter(my_dict)\n",
    "print(counter.count_key_in_dict('a')) # Output: 1\n",
    "print(counter.count_key_in_dict('b')) # Output: 1\n",
    "print(counter.count_key_in_dict('c')) # Output: 1\n",
    "print(counter.count_key_in_dict('d')) # Output: 1\n",
    "print(counter.count_key_in_dict('e')) # Output: 0\n",
    "    "
   ]
  },
  {
   "cell_type": "markdown",
   "id": "ced859e9",
   "metadata": {},
   "source": [
    "## 27. Write a Python program to convert a list into a nested dictionary of keys."
   ]
  },
  {
   "cell_type": "code",
   "execution_count": 15,
   "id": "45e4c160",
   "metadata": {},
   "outputs": [
    {
     "name": "stdout",
     "output_type": "stream",
     "text": [
      "{'a': {'b': {'c': {'d': {}}}}}\n",
      "{'a': {'b': {'c': {'d': {}}}}}\n"
     ]
    }
   ],
   "source": [
    "def list_to_nested_dict(list1):\n",
    "    result = {}\n",
    "    current_dict = result\n",
    "    \n",
    "    for key in list1:\n",
    "        current_dict[key] = {}\n",
    "        current_dict = current_dict[key]\n",
    "    return result\n",
    "\n",
    "\n",
    "my_list = ['a', 'b', 'c', 'd']\n",
    "print(list_to_nested_dict(my_list))\n",
    "\n",
    "# Alternative Method(object oriented)\n",
    "\n",
    "class NestedDict:\n",
    "    def __init__(self):\n",
    "        self.dictionary = {}\n",
    "\n",
    "    def add_keys(self, keys):\n",
    "        current_dict = self.dictionary\n",
    "        for key in keys:\n",
    "            current_dict[key] = {}\n",
    "            current_dict = current_dict[key]\n",
    "\n",
    "    def get_dict(self):\n",
    "        return self.dictionary\n",
    "\n",
    "# Example usage\n",
    "my_list = ['a', 'b', 'c', 'd']\n",
    "nd = NestedDict()\n",
    "nd.add_keys(my_list)\n",
    "print(nd.get_dict()) # Output: {'a': {'b': {'c': {'d': {}}}}}}\n"
   ]
  },
  {
   "cell_type": "markdown",
   "id": "87fa7df9",
   "metadata": {},
   "source": [
    "## 28. Write a Python program to sort a list alphabetically in a dictionary."
   ]
  },
  {
   "cell_type": "code",
   "execution_count": 81,
   "id": "61a49a8e",
   "metadata": {},
   "outputs": [
    {
     "name": "stdout",
     "output_type": "stream",
     "text": [
      "[('apple', 2), ('banana', 3), ('grape', 1), ('orange', 4)]\n"
     ]
    }
   ],
   "source": [
    "my_dict = {'banana': 3, 'apple': 2, 'orange': 4, 'grape': 1}\n",
    "\n",
    "sorted_list = sorted(my_dict.items(), key=lambda x: x[0])\n",
    "print(sorted_list)"
   ]
  },
  {
   "cell_type": "markdown",
   "id": "6bc8f86d",
   "metadata": {},
   "source": [
    "## 29. Write a Python program to remove spaces from dictionary keys."
   ]
  },
  {
   "cell_type": "code",
   "execution_count": 82,
   "id": "86d14ae4",
   "metadata": {},
   "outputs": [
    {
     "name": "stdout",
     "output_type": "stream",
     "text": [
      "{'bananalorry': 3, 'applepie': 2, 'orangecake': 4, 'grapejuice': 1}\n"
     ]
    }
   ],
   "source": [
    "my_dict = {'banana lorry': 3, 'apple pie': 2, 'orange cake': 4, 'grape juice': 1}\n",
    "\n",
    "new_dict = {}\n",
    "for key, value in my_dict.items():\n",
    "    new_key = key.replace(\" \", \"\")\n",
    "    new_dict[new_key] = value\n",
    "    \n",
    "print(new_dict)"
   ]
  },
  {
   "cell_type": "markdown",
   "id": "606adb04",
   "metadata": {},
   "source": [
    "## 30. Write a Python program to get the top three items in a shop. Go to the editor\n",
    "Sample data: {'item1': 45.50, 'item2':35, 'item3': 41.30, 'item4':55, 'item5': 24}a\n",
    "Expected Output:\n",
    "item4 55\n",
    "item1 45.5\n",
    "item3 41.3"
   ]
  },
  {
   "cell_type": "code",
   "execution_count": 83,
   "id": "a8d0ad0a",
   "metadata": {},
   "outputs": [
    {
     "name": "stdout",
     "output_type": "stream",
     "text": [
      "item4 55\n",
      "item1 45.5\n",
      "item3 41.3\n"
     ]
    }
   ],
   "source": [
    "shop_items = {'item1': 45.50, 'item2': 35, 'item3': 41.30, 'item4': 55, 'item5': 24}\n",
    "\n",
    "sorted_items = sorted(shop_items.items(), key=lambda x: x[1], reverse=True)  # accessing to the values and sorted them asending order\n",
    "top_three_items = sorted_items[:3] # 0,1,2 not including 3 index position\n",
    "\n",
    "for item in top_three_items:\n",
    "    print(f\"{item[0]} {item[1]}\")"
   ]
  },
  {
   "cell_type": "markdown",
   "id": "d9772bbc",
   "metadata": {},
   "source": [
    "# *****Example 5: List Comprehension\n",
    "    "
   ]
  },
  {
   "cell_type": "markdown",
   "id": "45481f1e",
   "metadata": {},
   "source": [
    "## 1. Write a Python function to reverse a list at a specific location."
   ]
  },
  {
   "cell_type": "code",
   "execution_count": 1,
   "id": "531ea8ed",
   "metadata": {},
   "outputs": [
    {
     "name": "stdout",
     "output_type": "stream",
     "text": [
      "[1, 2, 8, 7, 6, 5, 4, 3]\n"
     ]
    }
   ],
   "source": [
    "def reverse_list_at_location(list1, index):\n",
    "    \"\"\"\n",
    "     the list to be reversed and the index at which the reversal should start. \n",
    "     It first slices the list from the beginning up to the specified index\n",
    "    \"\"\"\n",
    "    return list1[:index] + [i for i in reversed(list1[index:])] # it concatenates the two lists using the + operator and returns the result.\n",
    "\n",
    "my_list = [1,2,3,4,5,6,7,8]\n",
    "print(reverse_list_at_location(my_list, 2))"
   ]
  },
  {
   "cell_type": "markdown",
   "id": "a55707e7",
   "metadata": {},
   "source": [
    "## 2. Write a Python function find the length of the longest increasing sub-sequence in a list."
   ]
  },
  {
   "cell_type": "code",
   "execution_count": 3,
   "id": "07c6bd30",
   "metadata": {},
   "outputs": [
    {
     "name": "stdout",
     "output_type": "stream",
     "text": [
      "Length of the longest increasing sub-sequence:  6\n"
     ]
    }
   ],
   "source": [
    "def longest_increasing_subsequence_length(numbers):\n",
    "    n = len(numbers)\n",
    "    array = [1] * n\n",
    "    for i in range(1,n):\n",
    "        for j in range(i):\n",
    "            if numbers[i] > numbers[j]:\n",
    "                array[i] = max(array[i], array[j]+1)\n",
    "    return max(array)\n",
    "\n",
    "numbers = [10,20,30,40,50,60]\n",
    "print(\"Length of the longest increasing sub-sequence: \", longest_increasing_subsequence_length(numbers))"
   ]
  },
  {
   "cell_type": "markdown",
   "id": "01565898",
   "metadata": {},
   "source": [
    "## 3. Write a Python function that finds all the permutations of the members of a list."
   ]
  },
  {
   "cell_type": "code",
   "execution_count": 7,
   "id": "abab03e7",
   "metadata": {},
   "outputs": [
    {
     "name": "stdout",
     "output_type": "stream",
     "text": [
      "[(3, 4, 5, 6), (3, 4, 6, 5), (3, 5, 4, 6), (3, 5, 6, 4), (3, 6, 4, 5), (3, 6, 5, 4), (4, 3, 5, 6), (4, 3, 6, 5), (4, 5, 3, 6), (4, 5, 6, 3), (4, 6, 3, 5), (4, 6, 5, 3), (5, 3, 4, 6), (5, 3, 6, 4), (5, 4, 3, 6), (5, 4, 6, 3), (5, 6, 3, 4), (5, 6, 4, 3), (6, 3, 4, 5), (6, 3, 5, 4), (6, 4, 3, 5), (6, 4, 5, 3), (6, 5, 3, 4), (6, 5, 4, 3)]\n"
     ]
    }
   ],
   "source": [
    "from itertools import permutations\n",
    "\n",
    "def find_permutation(lst):\n",
    "    return [p for p in permutations(lst)]\n",
    "\n",
    "lst = [3,4,5,6]\n",
    "print(find_permutation(lst))"
   ]
  },
  {
   "cell_type": "markdown",
   "id": "74196b81",
   "metadata": {},
   "source": [
    "## 4. Write a Python function to find the kth smallest element in a list."
   ]
  },
  {
   "cell_type": "code",
   "execution_count": 13,
   "id": "b3f8c4b1",
   "metadata": {},
   "outputs": [
    {
     "name": "stdout",
     "output_type": "stream",
     "text": [
      "[1, 1, 2, 3, 3, 4, 5, 5, 5, 6, 9]\n",
      "The 4th smallest element in [3, 1, 4, 1, 5, 9, 2, 6, 5, 3, 5] is 3.\n"
     ]
    }
   ],
   "source": [
    "def kth_smallest_number(lst, k):\n",
    "    \"\"\" This function takes a list and an integer k as its input. It first uses the sorted() function to sort the list in \n",
    "    ascending order, and then returns the element at the kth index (which is k-1 since Python lists are zero-indexed).\n",
    "    \"\"\"\n",
    "    \n",
    "    return sorted(lst)[k-1]\n",
    "\n",
    "lst = [3, 1, 4, 1, 5, 9, 2, 6, 5, 3, 5]\n",
    "print(sorted(lst))\n",
    "k = 4\n",
    "kth = kth_smallest_number(lst, k)\n",
    "print(f\"The {k}th smallest element in {lst} is {kth}.\")"
   ]
  },
  {
   "cell_type": "markdown",
   "id": "3328e37e",
   "metadata": {},
   "source": [
    "## 5. Write a Python function to find the kth largest element in a list. "
   ]
  },
  {
   "cell_type": "code",
   "execution_count": 84,
   "id": "bf9f33bc",
   "metadata": {},
   "outputs": [
    {
     "name": "stdout",
     "output_type": "stream",
     "text": [
      "The 2nd largest element in [3, 1, 4, 1, 5, 9, 2, 6, 5, 3, 5] is 6.\n"
     ]
    }
   ],
   "source": [
    "def kth_largest(lst, k): \n",
    "    return sorted(lst, reverse=True)[k-1] # rveerses true means anfter sorted the list it will go like 5,4,3,2,1 and k-1 first and quickly returns the largest value at the end of the list\n",
    "\n",
    "lst = [3, 1, 4, 1, 5, 9, 2, 6, 5, 3, 5]\n",
    "k = 2\n",
    "kth = kth_largest(lst, k)\n",
    "print(f\"The {k}nd largest element in {lst} is {kth}.\")\n"
   ]
  },
  {
   "cell_type": "markdown",
   "id": "8f9ad0b2",
   "metadata": {},
   "source": [
    "## 6. Write a Python function to check if a list is a palindrome or not. Return true otherwise false."
   ]
  },
  {
   "cell_type": "code",
   "execution_count": 85,
   "id": "d789bac2",
   "metadata": {},
   "outputs": [
    {
     "name": "stdout",
     "output_type": "stream",
     "text": [
      "True\n",
      "False\n"
     ]
    }
   ],
   "source": [
    "# Method 1:\n",
    "\n",
    "def is_palindrome(lst):\n",
    "    \n",
    "    reversed_list = [lst[i] for i in range(len(lst)-1,-1,-1)]  # start, stop, step\n",
    "    return lst == reversed_list\n",
    "\n",
    "lst1 = [1, 2, 3, 2, 1]\n",
    "lst2 = [1, 2, 3, 4, 5]\n",
    "print(is_palindrome(lst1))  \n",
    "print(is_palindrome(lst2)) "
   ]
  },
  {
   "cell_type": "markdown",
   "id": "9b65c4e9",
   "metadata": {},
   "source": [
    "## 7. Write a Python a function to find the union and intersection of two lists. "
   ]
  },
  {
   "cell_type": "code",
   "execution_count": 86,
   "id": "5e6fef9a",
   "metadata": {},
   "outputs": [
    {
     "name": "stdout",
     "output_type": "stream",
     "text": [
      "([1, 2, 3, 4, 5, 6, 7], [3, 4, 5])\n"
     ]
    }
   ],
   "source": [
    "def find_union_intersection(lst1, lst2):\n",
    "    union = [x for x in lst1] + [x for x in lst2 if x not in lst1]\n",
    "    \n",
    "    intersection = [x for x in lst1 if x in lst2]\n",
    "    return (union, intersection)\n",
    "    \n",
    "lst1 = [1, 2, 3, 4, 5]\n",
    "lst2 = [3, 4, 5, 6, 7]\n",
    "print(find_union_intersection(lst1, lst2))\n"
   ]
  },
  {
   "cell_type": "markdown",
   "id": "7a6a1660",
   "metadata": {},
   "source": [
    "## 8. Write a Python function to remove duplicates from a list while preserving the order. "
   ]
  },
  {
   "cell_type": "code",
   "execution_count": 87,
   "id": "7f961c13",
   "metadata": {},
   "outputs": [
    {
     "name": "stdout",
     "output_type": "stream",
     "text": [
      "[1, 2, 3, 4, 5]\n",
      "[1, 2, 3, 4, 5]\n"
     ]
    }
   ],
   "source": [
    "def remove_duplicates(lst):\n",
    "    \n",
    "    seen = set()\n",
    "    result = []\n",
    "    for item in lst:\n",
    "        if item not in seen:\n",
    "            seen.add(item)\n",
    "            result.append(item)\n",
    "            \n",
    "    return result\n",
    "\n",
    "lst = [1, 2, 3, 2, 1, 4, 5, 3]\n",
    "result = remove_duplicates(lst)\n",
    "print(result)  \n",
    "\n",
    "# Another Method\n",
    "\n",
    "def remove_duplicates(lst):\n",
    "    return [x for i,x in enumerate(lst) if x not in lst[:i]] # From the beginning to ith index value\n",
    "    \"\"\"\n",
    "    Note that we use the enumerate function to get both the item x and the current index i in the original list lst. \n",
    "    We also use slicing to get the part of the list that comes before the current index lst[:i] and check if the item \n",
    "    x appears in this part of the list.\n",
    "    \"\"\"\n",
    "lst = [1, 2, 3, 2, 1, 4, 5, 3]\n",
    "result = remove_duplicates(lst)\n",
    "print(result)\n"
   ]
  },
  {
   "cell_type": "markdown",
   "id": "4133c331",
   "metadata": {},
   "source": [
    "## 9. Write a Python a function to find the maximum sum sub-sequence in a list. Return the maximum value. "
   ]
  },
  {
   "cell_type": "code",
   "execution_count": 88,
   "id": "c37d3735",
   "metadata": {},
   "outputs": [
    {
     "ename": "SyntaxError",
     "evalue": "invalid syntax (84994621.py, line 5)",
     "output_type": "error",
     "traceback": [
      "\u001b[1;36m  Cell \u001b[1;32mIn[88], line 5\u001b[1;36m\u001b[0m\n\u001b[1;33m    for in range(len(lst)):\u001b[0m\n\u001b[1;37m        ^\u001b[0m\n\u001b[1;31mSyntaxError\u001b[0m\u001b[1;31m:\u001b[0m invalid syntax\n"
     ]
    }
   ],
   "source": [
    "def max_sum_subsequence(lst):\n",
    "    \n",
    "    max_sum = 0\n",
    "    current_sum = 0\n",
    "    for in range(len(lst)):\n",
    "        current_sum += lst[i]\n",
    "        if current_sum > max_sum:\n",
    "            max_sum = current_sum\n",
    "        elif current_sum < 0:\n",
    "            current_sum = 0\n",
    "    return max_sum\n",
    "\n",
    "lst = [-2, 1, -3, 4, -1, 2, 1, -5, 4]\n",
    "max_sum = max_sum_subseq(lst)\n",
    "print(max_sum) \n",
    "\n",
    "# Another Method: Brute Force Algo\n",
    "\n",
    "def max_sum_subsequence(lst):\n",
    "    \n",
    "    max_sum = lst[0]\n",
    "    for i in range(len(lst)):\n",
    "        for j in range(i, len(lst)):\n",
    "            currnet_sum = sum(lst[i:j+1]) # +1 give full length \n",
    "            if current_sum > max_sum:\n",
    "                max_sum = current_sum\n",
    "    return max_sum\n",
    "\n",
    "lst = [-2, 1, -3, 4, -1, 2, 1, -5, 4]\n",
    "max_sum = max_sum_subseq(lst)\n",
    "print(max_sum)\n",
    "\n",
    "\n"
   ]
  },
  {
   "cell_type": "markdown",
   "id": "7100e6ac",
   "metadata": {},
   "source": [
    "## 10. Write a Python a function to find the minimum sum sub-sequence in a list. Return the sub-sequence."
   ]
  },
  {
   "cell_type": "code",
   "execution_count": 89,
   "id": "b4d9c5d1",
   "metadata": {},
   "outputs": [
    {
     "name": "stdout",
     "output_type": "stream",
     "text": [
      "[-8]\n",
      "[-8]\n"
     ]
    }
   ],
   "source": [
    "def min_sum_subsequence(lst):\n",
    "    \n",
    "    min_sum = lst[0]\n",
    "    min_seq = [lst[0]]\n",
    "    for i in range(len(lst)):\n",
    "        for j in range(i, len(lst)):\n",
    "            current_sum = sum(lst[i:j+1])\n",
    "            if current_sum < min_sum:\n",
    "                min_sum = current_sum\n",
    "                min_seq = lst[i:j+1]\n",
    "    return min_seq\n",
    "\n",
    "lst = [1, -2, 3, -4, 5, -6, 7, -8]\n",
    "min_seq = min_sum_subsequence(lst)\n",
    "print(min_seq)\n",
    "\n",
    "# Another Method: \n",
    "\n",
    "def min_sum_subsequence(lst):\n",
    "    \"\"\"\n",
    "    Finds the minimum sum sub-sequence in a list and returns the sub-sequence.\n",
    "    \"\"\"\n",
    "    min_sum = lst[0]\n",
    "    min_seq = [lst[0]]\n",
    "    for i in range(len(lst)):\n",
    "        for j in range(i, len(lst)):\n",
    "            current_seq = lst[i:j+1]\n",
    "            current_sum = sum(current_seq)\n",
    "            if current_sum < min_sum:\n",
    "                min_sum = current_sum\n",
    "                min_seq = current_seq\n",
    "    return min_seq\n",
    "\n",
    "lst = [1, -2, 3, -4, 5, -6, 7, -8]\n",
    "min_seq = min_sum_subsequence(lst)\n",
    "print(min_seq)"
   ]
  },
  {
   "cell_type": "markdown",
   "id": "d0840906",
   "metadata": {},
   "source": [
    "## 11. Write a Python function to find the longest common sub-sequence in two lists."
   ]
  },
  {
   "cell_type": "code",
   "execution_count": 90,
   "id": "33d23b61",
   "metadata": {},
   "outputs": [
    {
     "name": "stdout",
     "output_type": "stream",
     "text": [
      "[]\n",
      "2\n"
     ]
    }
   ],
   "source": [
    "def LCS(lst1, lst2):\n",
    "    \n",
    "    lcs_len = 0\n",
    "    \n",
    "    for i in range(len(lst1)):\n",
    "        for j in range(len(lst2)):\n",
    "            if lst1[i] == lst2[j]:\n",
    "                \n",
    "                \"\"\" Whenever a match is found, the function \"truncates\" the prefix of lst2 up to the matching element so that \n",
    "                future matches only occur on suffixes. This approach assumes that the elements of the input lists are \n",
    "                hashable and unique. \"\"\"\n",
    "                lcs_len += 1\n",
    "                lst2 = lst2[j+1:]\n",
    "                break\n",
    "    lcs = [elem for elem in lst1 if elem in lst2]\n",
    "    \n",
    "    return lcs\n",
    "\n",
    "lst1 = [1,2,3,4]\n",
    "lst2 = [2,3,4,8]\n",
    "print(LCS(lst1, lst2))\n",
    "\n",
    "# Another method using recursion\n",
    "\n",
    "def LCS(lst1, lst2):\n",
    "    m, n = len(lst1), len(lst2)\n",
    "    if m == 0 or n == 0:\n",
    "        return 0\n",
    "\n",
    "    if lst1[m-1] == lst2[n-1]:\n",
    "        return 1 + LCS(lst1[:m-1], lst2[:n-1])\n",
    "    else:\n",
    "        return max(LCS(lst1[:m-1], lst2), LCS(lst1, lst2[:n-1]))\n",
    "\n",
    "lst1 = ['b','d']\n",
    "lst2 = ['b', 'c', 'd']\n",
    "\n",
    "print(LCS(lst1, lst2))  # Output: 2"
   ]
  },
  {
   "cell_type": "markdown",
   "id": "c7b9c2e1",
   "metadata": {},
   "source": [
    "## 12. Write a Python program to find the first non-repeated element in a list."
   ]
  },
  {
   "cell_type": "code",
   "execution_count": 91,
   "id": "6b1341e8",
   "metadata": {},
   "outputs": [
    {
     "name": "stdout",
     "output_type": "stream",
     "text": [
      "3\n"
     ]
    }
   ],
   "source": [
    "def first_non_repeated_element(lst):\n",
    "    count = {elem: lst.count(elem) for elem in lst}\n",
    "    non_repeated = [elem for elem in lst if count[elem] == 1]\n",
    "    return non_repeated[0] if non_repeated else None\n",
    "\n",
    "lst = [1, 2, 3, 2, 1, 4, 4, 5]\n",
    "print(first_non_repeated_element(lst)) "
   ]
  },
  {
   "cell_type": "code",
   "execution_count": null,
   "id": "cc9f4220",
   "metadata": {},
   "outputs": [],
   "source": []
  },
  {
   "cell_type": "markdown",
   "id": "8bf86879",
   "metadata": {},
   "source": [
    "## 14. Write a Python function to sort a list of dictionaries based on values of a key."
   ]
  },
  {
   "cell_type": "code",
   "execution_count": 92,
   "id": "77524fec",
   "metadata": {},
   "outputs": [
    {
     "name": "stdout",
     "output_type": "stream",
     "text": [
      "[{'name': 'Alice', 'age': 25}, {'name': 'Bob', 'age': 20}, {'name': 'Charlie', 'age': 30}, {'name': 'David', 'age': 25}]\n"
     ]
    }
   ],
   "source": [
    "def sort_dict_list(lst, key):\n",
    "    return sorted(lst, key= lambda x: x[key])\n",
    "\n",
    "lst = [\n",
    "    {'name': 'Alice', 'age': 25},\n",
    "    {'name': 'Bob', 'age': 20},\n",
    "    {'name': 'Charlie', 'age': 30},\n",
    "    {'name': 'David', 'age': 25}\n",
    " ]\n",
    "\n",
    "print(sort_dict_list(lst, 'name'))\n",
    "\n"
   ]
  },
  {
   "cell_type": "markdown",
   "id": "d53dd893",
   "metadata": {},
   "source": [
    "## 15. Write a Python program to find all the pairs in a list whose sum is equal to a given value."
   ]
  },
  {
   "cell_type": "code",
   "execution_count": 93,
   "id": "804b8f71",
   "metadata": {},
   "outputs": [
    {
     "name": "stdout",
     "output_type": "stream",
     "text": [
      "[(4, 8), (5, 7)]\n"
     ]
    }
   ],
   "source": [
    "def find_pairs(lst, target):\n",
    "    return [(lst[i], lst[j]) for i in range(len(lst)) for j in range(i+1, len(lst)) if lst[i] + lst[j] == target]\n",
    "\n",
    "lst = [1,2,3,4,5,6,7,8]\n",
    "target = 12\n",
    "pairs = find_pairs(lst, target)\n",
    "print(pairs)\n"
   ]
  }
 ],
 "metadata": {
  "kernelspec": {
   "display_name": "Python 3 (ipykernel)",
   "language": "python",
   "name": "python3"
  },
  "language_info": {
   "codemirror_mode": {
    "name": "ipython",
    "version": 3
   },
   "file_extension": ".py",
   "mimetype": "text/x-python",
   "name": "python",
   "nbconvert_exporter": "python",
   "pygments_lexer": "ipython3",
   "version": "3.10.9"
  }
 },
 "nbformat": 4,
 "nbformat_minor": 5
}
