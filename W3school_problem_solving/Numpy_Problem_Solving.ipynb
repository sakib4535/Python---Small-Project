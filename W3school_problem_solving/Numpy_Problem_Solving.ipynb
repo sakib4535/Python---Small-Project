{
 "cells": [
  {
   "cell_type": "markdown",
   "id": "b52a4240",
   "metadata": {},
   "source": [
    "# NUMPY PROBLEM SETS AND SOLUTIONS"
   ]
  },
  {
   "cell_type": "markdown",
   "id": "1a327c63",
   "metadata": {},
   "source": [
    "Description: "
   ]
  },
  {
   "cell_type": "markdown",
   "id": "f1c1f6ac",
   "metadata": {},
   "source": [
    "1. Import the numpy package under the name np and print the numpy version and the configuration (★☆☆)"
   ]
  },
  {
   "cell_type": "code",
   "execution_count": null,
   "id": "fcf62c6c",
   "metadata": {},
   "outputs": [],
   "source": []
  },
  {
   "cell_type": "markdown",
   "id": "1f55befd",
   "metadata": {},
   "source": [
    "2. Convert a list of numeric value into a one-dimensional NumPy array (★☆☆)"
   ]
  },
  {
   "cell_type": "code",
   "execution_count": null,
   "id": "a2a4fc2e",
   "metadata": {},
   "outputs": [],
   "source": []
  },
  {
   "cell_type": "markdown",
   "id": "98618033",
   "metadata": {},
   "source": [
    "3. Create a null vector of size 9 (★☆☆)"
   ]
  },
  {
   "cell_type": "code",
   "execution_count": null,
   "id": "2b7e295f",
   "metadata": {},
   "outputs": [],
   "source": []
  },
  {
   "cell_type": "markdown",
   "id": "99da1a35",
   "metadata": {},
   "source": [
    "4. How to find the memory size of any array (★☆☆)"
   ]
  },
  {
   "cell_type": "code",
   "execution_count": null,
   "id": "2f8bdeaa",
   "metadata": {},
   "outputs": [],
   "source": []
  },
  {
   "cell_type": "markdown",
   "id": "66410cd0",
   "metadata": {},
   "source": [
    "5. How to get the documentation of the numpy add function from the command line? (★☆☆)"
   ]
  },
  {
   "cell_type": "code",
   "execution_count": null,
   "id": "2e08e481",
   "metadata": {},
   "outputs": [],
   "source": []
  },
  {
   "cell_type": "markdown",
   "id": "0723b79a",
   "metadata": {},
   "source": [
    "6. Create a null vector of size 12 but the sixth value which is 1 (★☆☆)"
   ]
  },
  {
   "cell_type": "code",
   "execution_count": null,
   "id": "2ca2966e",
   "metadata": {},
   "outputs": [],
   "source": []
  },
  {
   "cell_type": "markdown",
   "id": "1b45e075",
   "metadata": {},
   "source": [
    "7. Create a vector with values ranging from 20 to 59 (★☆☆)"
   ]
  },
  {
   "cell_type": "code",
   "execution_count": null,
   "id": "1b6d60e8",
   "metadata": {},
   "outputs": [],
   "source": []
  },
  {
   "cell_type": "markdown",
   "id": "3e50673f",
   "metadata": {},
   "source": [
    "8. Reverse a vector (first element becomes last) (★☆☆)"
   ]
  },
  {
   "cell_type": "code",
   "execution_count": null,
   "id": "cb03c8eb",
   "metadata": {},
   "outputs": [],
   "source": []
  },
  {
   "cell_type": "markdown",
   "id": "23d2e2d2",
   "metadata": {},
   "source": [
    "9. Create a 3x3 matrix with values ranging from 12 to 20 (★☆☆)\n",
    "💡hint: reshape"
   ]
  },
  {
   "cell_type": "code",
   "execution_count": null,
   "id": "6da9c1d0",
   "metadata": {},
   "outputs": [],
   "source": []
  },
  {
   "cell_type": "markdown",
   "id": "5fe99051",
   "metadata": {},
   "source": [
    "10. Find indices of non-zero elements from [3,7,0,0,9,0] (★☆☆)"
   ]
  },
  {
   "cell_type": "code",
   "execution_count": null,
   "id": "ab118217",
   "metadata": {},
   "outputs": [],
   "source": []
  },
  {
   "cell_type": "markdown",
   "id": "21535adc",
   "metadata": {},
   "source": [
    "11. Create a 4x4 identity matrix (★☆☆)\n",
    "💡hint: np.eye"
   ]
  },
  {
   "cell_type": "code",
   "execution_count": null,
   "id": "c03249e8",
   "metadata": {},
   "outputs": [],
   "source": []
  },
  {
   "cell_type": "markdown",
   "id": "ee3d339d",
   "metadata": {},
   "source": [
    "12. Create a 2x2x2 array with random values (★☆☆)\n",
    "💡hint: np.random.random"
   ]
  },
  {
   "cell_type": "code",
   "execution_count": null,
   "id": "5ad1900c",
   "metadata": {},
   "outputs": [],
   "source": []
  },
  {
   "cell_type": "markdown",
   "id": "12a4a49a",
   "metadata": {},
   "source": [
    "13. Create a 9x9 array with random values and find the minimum and maximum values (★☆☆)\n",
    "💡hint: min, max"
   ]
  },
  {
   "cell_type": "code",
   "execution_count": null,
   "id": "619edd1e",
   "metadata": {},
   "outputs": [],
   "source": []
  },
  {
   "cell_type": "markdown",
   "id": "a07e20a6",
   "metadata": {},
   "source": [
    "14. Create a random vector of size 20 and find the mean value (★☆☆)"
   ]
  },
  {
   "cell_type": "code",
   "execution_count": null,
   "id": "80381d79",
   "metadata": {},
   "outputs": [],
   "source": []
  },
  {
   "cell_type": "markdown",
   "id": "649c8111",
   "metadata": {},
   "source": [
    "15. Create a 2d array with 1 on the border and 0 inside (★☆☆)"
   ]
  },
  {
   "cell_type": "code",
   "execution_count": null,
   "id": "a3cf9cec",
   "metadata": {},
   "outputs": [],
   "source": []
  },
  {
   "cell_type": "markdown",
   "id": "2c2b1ace",
   "metadata": {},
   "source": [
    "16. How to add a border (filled with 0's) around an existing array? (★☆☆)"
   ]
  },
  {
   "cell_type": "code",
   "execution_count": null,
   "id": "26b40029",
   "metadata": {},
   "outputs": [],
   "source": []
  },
  {
   "cell_type": "markdown",
   "id": "bbeefbaa",
   "metadata": {},
   "source": [
    "17. What is the result of the following expression? (★☆☆)\n",
    "0 * np.nan\n",
    "np.nan == np.nan\n",
    "np.inf > np.nan\n",
    "np.nan - np.nan\n",
    "np.nan in set([np.nan])\n",
    "0.7 == 7 * 0.1\n",
    "💡hint: NaN = not a number, inf = infinity"
   ]
  },
  {
   "cell_type": "code",
   "execution_count": null,
   "id": "520a39f4",
   "metadata": {},
   "outputs": [],
   "source": []
  },
  {
   "cell_type": "markdown",
   "id": "e1efb864",
   "metadata": {},
   "source": [
    "18. Create a 6x6 matrix with values 1,2,3,4 just below the diagonal (★☆☆)\n",
    "💡hint: np.diag"
   ]
  },
  {
   "cell_type": "code",
   "execution_count": null,
   "id": "57fb4a19",
   "metadata": {},
   "outputs": [],
   "source": []
  },
  {
   "cell_type": "markdown",
   "id": "fdcd7116",
   "metadata": {},
   "source": [
    "19. Create a 6x6 matrix and fill it with a checkerboard pattern (★☆☆)\n",
    "💡hint: array[::2]"
   ]
  },
  {
   "cell_type": "code",
   "execution_count": null,
   "id": "1919ae3b",
   "metadata": {},
   "outputs": [],
   "source": []
  },
  {
   "cell_type": "markdown",
   "id": "8562ef11",
   "metadata": {},
   "source": [
    "20. Consider a (8,9,10) shape array, what is the index (x,y,z) of the 100th element? (★☆☆)\n",
    "💡hint: np.unravel_index"
   ]
  },
  {
   "cell_type": "code",
   "execution_count": null,
   "id": "73e7cc78",
   "metadata": {},
   "outputs": [],
   "source": []
  },
  {
   "cell_type": "markdown",
   "id": "5c29ecaa",
   "metadata": {},
   "source": [
    "21. Create a checkerboard 8x8 matrix using the tile function (★☆☆)\n",
    "💡hint: np.tile"
   ]
  },
  {
   "cell_type": "code",
   "execution_count": null,
   "id": "b39598e3",
   "metadata": {},
   "outputs": [],
   "source": []
  },
  {
   "cell_type": "markdown",
   "id": "dd932331",
   "metadata": {},
   "source": [
    "22. Normalize a 6x6 random matrix (★☆☆)\n",
    "💡hint: (x -mean)/std"
   ]
  },
  {
   "cell_type": "code",
   "execution_count": null,
   "id": "262f05f8",
   "metadata": {},
   "outputs": [],
   "source": []
  },
  {
   "cell_type": "markdown",
   "id": "69db0cb7",
   "metadata": {},
   "source": [
    "23. find the number of elements of an array, length of one array element in bytes and total bytes consumed by the elements. (★☆☆)"
   ]
  },
  {
   "cell_type": "code",
   "execution_count": null,
   "id": "8ee373bc",
   "metadata": {},
   "outputs": [],
   "source": []
  },
  {
   "cell_type": "markdown",
   "id": "32af130d",
   "metadata": {},
   "source": [
    "24. Multiply a 6x3 matrix by a 3x4 matrix (real matrix product) (★☆☆)\n",
    "💡hint: np.dot or np.ones"
   ]
  },
  {
   "cell_type": "code",
   "execution_count": null,
   "id": "783339e0",
   "metadata": {},
   "outputs": [],
   "source": []
  },
  {
   "cell_type": "markdown",
   "id": "ac98fbfb",
   "metadata": {},
   "source": [
    "25. Given a 1D array, negate all elements which are between 3 and 8, in place. (★☆☆)\n",
    "💡hint: >, <"
   ]
  },
  {
   "cell_type": "code",
   "execution_count": null,
   "id": "79e1d890",
   "metadata": {},
   "outputs": [],
   "source": []
  },
  {
   "cell_type": "markdown",
   "id": "a70fadfd",
   "metadata": {},
   "source": [
    "26. What is the output of the following script? (★☆☆)\n",
    "print(sum(range(5),-1))\n",
    "from numpy import *\n",
    "print(sum(range(5),-1))"
   ]
  },
  {
   "cell_type": "code",
   "execution_count": null,
   "id": "f32e5c3b",
   "metadata": {},
   "outputs": [],
   "source": []
  },
  {
   "cell_type": "markdown",
   "id": "248edefb",
   "metadata": {},
   "source": [
    "27. Write a Python program compare two arrays using numpy (★☆☆)\n",
    "Array a: [1 2]\n",
    "Array b: [4 5]\n",
    "a > b \n",
    "[False False]\n",
    "a >= b \n",
    "[False False] \n",
    "a < b \n",
    "[ True True] \n",
    "a <= b \n",
    "[ True True]"
   ]
  },
  {
   "cell_type": "code",
   "execution_count": null,
   "id": "f3486b6e",
   "metadata": {},
   "outputs": [],
   "source": []
  },
  {
   "cell_type": "markdown",
   "id": "ec5d0af6",
   "metadata": {},
   "source": [
    "28. What are the result of the following expressions? (★☆☆)\n",
    "np.array(0) / np.array(0)\n",
    "np.array(0) // np.array(0)\n",
    "np.array([np.nan]).astype(int).astype(float)\n",
    "Consider an integer vector a\n",
    "\n",
    "a**a\n",
    "a << a >> 2\n",
    "a <- a\n",
    "1j*a\n",
    "a/1/1\n",
    "a<a>a"
   ]
  },
  {
   "cell_type": "code",
   "execution_count": null,
   "id": "c89be0ff",
   "metadata": {},
   "outputs": [],
   "source": []
  },
  {
   "cell_type": "markdown",
   "id": "1b89f0b8",
   "metadata": {},
   "source": [
    "29. How to round away from zero a float array ? (★☆☆)\n",
    "💡hint: np.uniform, np.copysign, np.ceil, np.abs, np.where"
   ]
  },
  {
   "cell_type": "code",
   "execution_count": null,
   "id": "5fd45717",
   "metadata": {},
   "outputs": [],
   "source": []
  },
  {
   "cell_type": "markdown",
   "id": "8cd117cb",
   "metadata": {},
   "source": [
    "30. How to find common values between two arrays? (★☆☆)\n",
    "💡hint: np.intersect1d"
   ]
  },
  {
   "cell_type": "code",
   "execution_count": null,
   "id": "8863e2bb",
   "metadata": {},
   "outputs": [],
   "source": []
  },
  {
   "cell_type": "markdown",
   "id": "6864d7e5",
   "metadata": {},
   "source": []
  },
  {
   "cell_type": "markdown",
   "id": "ccac0eb6",
   "metadata": {},
   "source": []
  },
  {
   "cell_type": "markdown",
   "id": "90d28e7f",
   "metadata": {},
   "source": [
    "80. Consider an arbitrary array, write a function that extract a subpart with a fixed shape and centered on a given element (pad with a fill value when necessary) (★★★)\n",
    "💡hint: minimum maximum"
   ]
  },
  {
   "cell_type": "code",
   "execution_count": null,
   "id": "527a9e72",
   "metadata": {},
   "outputs": [],
   "source": []
  },
  {
   "cell_type": "markdown",
   "id": "c2dbc563",
   "metadata": {},
   "source": [
    "81. Consider an array a = [1,2,3,4,5,6,7,8,9,10,11,12,13,14], how to generate an array b = [[1,2,3,4], [2,3,4,5], [3,4,5,6], ..., [11,12,13,14]]? (★★★)\n",
    "💡hint: stride_tricks.as_strided"
   ]
  },
  {
   "cell_type": "code",
   "execution_count": null,
   "id": "dd9d2534",
   "metadata": {},
   "outputs": [],
   "source": []
  },
  {
   "cell_type": "markdown",
   "id": "9b3bac79",
   "metadata": {},
   "source": [
    "82. Compute a matrix rank (★★★)\n",
    "💡hint: np.linalg.svd"
   ]
  },
  {
   "cell_type": "code",
   "execution_count": null,
   "id": "77b928c4",
   "metadata": {},
   "outputs": [],
   "source": []
  },
  {
   "cell_type": "markdown",
   "id": "b66f33bf",
   "metadata": {},
   "source": [
    "83. How to find the most frequent value in an array?\n",
    "💡hint: np.bincount, argmax"
   ]
  },
  {
   "cell_type": "code",
   "execution_count": null,
   "id": "33efa701",
   "metadata": {},
   "outputs": [],
   "source": []
  },
  {
   "cell_type": "markdown",
   "id": "7ef5f9ef",
   "metadata": {},
   "source": [
    "84. Extract all the contiguous 3x3 blocks from a random 10x10 matrix (★★★)\n",
    "💡hint: stride_tricks.as_strided"
   ]
  },
  {
   "cell_type": "code",
   "execution_count": null,
   "id": "d9743c71",
   "metadata": {},
   "outputs": [],
   "source": []
  },
  {
   "cell_type": "markdown",
   "id": "b11e5cd6",
   "metadata": {},
   "source": [
    "85. Create a 2D array subclass such that a[i,j] == a[j,i] (★★★)\n",
    "💡hint: class method"
   ]
  },
  {
   "cell_type": "code",
   "execution_count": null,
   "id": "41e96dae",
   "metadata": {},
   "outputs": [],
   "source": []
  },
  {
   "cell_type": "markdown",
   "id": "586cbc55",
   "metadata": {},
   "source": [
    "86. Consider a set of p matrices wich shape (n,n) and a set of p vectors with shape (n,1). How to compute the sum of of the p matrix products at once? (result has shape (n,1)) (★★★)"
   ]
  },
  {
   "cell_type": "code",
   "execution_count": null,
   "id": "ba1b7554",
   "metadata": {},
   "outputs": [],
   "source": []
  },
  {
   "cell_type": "markdown",
   "id": "18fe8f68",
   "metadata": {},
   "source": [
    "87. Consider a 16x16 array, how to get the block-sum (block size is 4x4)? (★★★)\n",
    "💡hint: np.add.reduceat"
   ]
  },
  {
   "cell_type": "code",
   "execution_count": null,
   "id": "5014c299",
   "metadata": {},
   "outputs": [],
   "source": []
  },
  {
   "cell_type": "markdown",
   "id": "3c3c7859",
   "metadata": {},
   "source": [
    "88. How to implement the Game of Life using numpy arrays? (★★★)"
   ]
  },
  {
   "cell_type": "code",
   "execution_count": null,
   "id": "14b2dd88",
   "metadata": {},
   "outputs": [],
   "source": []
  },
  {
   "cell_type": "markdown",
   "id": "db32991a",
   "metadata": {},
   "source": [
    "89. How to get the n largest values of an array (★★★)\n",
    "💡hint: np.argsort | np.argpartition"
   ]
  },
  {
   "cell_type": "code",
   "execution_count": null,
   "id": "ed2b49e9",
   "metadata": {},
   "outputs": [],
   "source": []
  },
  {
   "cell_type": "markdown",
   "id": "5b204128",
   "metadata": {},
   "source": [
    "90. Given an arbitrary number of vectors, build the cartesian product (every combinations of every item) (★★★)\n",
    "💡hint: np.indices"
   ]
  },
  {
   "cell_type": "code",
   "execution_count": null,
   "id": "c84e8454",
   "metadata": {},
   "outputs": [],
   "source": []
  },
  {
   "cell_type": "markdown",
   "id": "686aafcf",
   "metadata": {},
   "source": [
    "91. How to create a record array from a regular array? (★★★)\n",
    "💡hint: np.core.records.fromarrays"
   ]
  },
  {
   "cell_type": "code",
   "execution_count": null,
   "id": "c267feb9",
   "metadata": {},
   "outputs": [],
   "source": []
  },
  {
   "cell_type": "markdown",
   "id": "22fe2a61",
   "metadata": {},
   "source": [
    "92. Consider a large vector A, compute A to the power of 3 using 3 different methods (★★★)\n",
    "💡hint: np.power, *, np.einsum"
   ]
  },
  {
   "cell_type": "code",
   "execution_count": null,
   "id": "1eb45a03",
   "metadata": {},
   "outputs": [],
   "source": []
  },
  {
   "cell_type": "markdown",
   "id": "201a9c4c",
   "metadata": {},
   "source": [
    "93. Consider two arrays A and B of shape (8,3) and (2,2). How to find rows of A that contain elements of each row of B regardless of the order of the elements in B? (★★★)\n",
    "💡hint: np.where"
   ]
  },
  {
   "cell_type": "code",
   "execution_count": null,
   "id": "61ae767c",
   "metadata": {},
   "outputs": [],
   "source": []
  },
  {
   "cell_type": "markdown",
   "id": "fe899328",
   "metadata": {},
   "source": [
    "94. Considering a 10x3 matrix, extract rows with unequal values (e.g. [2,2,3]) (★★★)\n",
    " "
   ]
  },
  {
   "cell_type": "code",
   "execution_count": null,
   "id": "c3ebfc11",
   "metadata": {},
   "outputs": [],
   "source": []
  },
  {
   "cell_type": "markdown",
   "id": "e8387c82",
   "metadata": {},
   "source": [
    "95. Convert a vector of ints into a matrix binary representation (★★★)\n",
    "💡hint: np.unpackbits"
   ]
  },
  {
   "cell_type": "code",
   "execution_count": null,
   "id": "f11bb374",
   "metadata": {},
   "outputs": [],
   "source": []
  },
  {
   "cell_type": "markdown",
   "id": "072bf8bf",
   "metadata": {},
   "source": [
    "96. Given a two dimensional array, how to extract unique rows? (★★★)\n",
    "💡hint: np.ascontiguousarray | np.unique"
   ]
  },
  {
   "cell_type": "code",
   "execution_count": null,
   "id": "c7372cb2",
   "metadata": {},
   "outputs": [],
   "source": []
  },
  {
   "cell_type": "markdown",
   "id": "cb003bd2",
   "metadata": {},
   "source": [
    "97. Considering 2 vectors A & B, write the einsum equivalent of inner, outer, sum, and mul function (★★★)\n",
    "💡hint: np.einsum"
   ]
  },
  {
   "cell_type": "code",
   "execution_count": null,
   "id": "08b02429",
   "metadata": {},
   "outputs": [],
   "source": []
  },
  {
   "cell_type": "markdown",
   "id": "0a092641",
   "metadata": {},
   "source": [
    "98. Considering a path described by two vectors (X,Y), how to sample it using equidistant samples (★★★)?\n",
    "💡hint: np.cumsum, np.interp"
   ]
  },
  {
   "cell_type": "code",
   "execution_count": null,
   "id": "9e0c96b2",
   "metadata": {},
   "outputs": [],
   "source": []
  },
  {
   "cell_type": "markdown",
   "id": "ff949080",
   "metadata": {},
   "source": [
    "99. Given an integer n and a 2D array X, select from X the rows which can be interpreted as draws from a multinomial distribution with n degrees, i.e., the rows which only contain integers and which sum to n. (★★★)\n",
    "💡hint: np.logical_and.reduce, np.mod"
   ]
  },
  {
   "cell_type": "code",
   "execution_count": null,
   "id": "05074167",
   "metadata": {},
   "outputs": [],
   "source": []
  },
  {
   "cell_type": "markdown",
   "id": "005b33eb",
   "metadata": {},
   "source": [
    "100. Compute bootstrapped 95% confidence intervals for the mean of a 1D array X (i.e., resample the elements of an array with replacement N times, compute the mean of each sample, and then compute percentiles over the means). (★★★)\n",
    "💡hint: np.percentile"
   ]
  },
  {
   "cell_type": "code",
   "execution_count": null,
   "id": "d1de9547",
   "metadata": {},
   "outputs": [],
   "source": []
  },
  {
   "cell_type": "code",
   "execution_count": null,
   "id": "55351e76",
   "metadata": {},
   "outputs": [],
   "source": []
  }
 ],
 "metadata": {
  "kernelspec": {
   "display_name": "Python 3 (ipykernel)",
   "language": "python",
   "name": "python3"
  },
  "language_info": {
   "codemirror_mode": {
    "name": "ipython",
    "version": 3
   },
   "file_extension": ".py",
   "mimetype": "text/x-python",
   "name": "python",
   "nbconvert_exporter": "python",
   "pygments_lexer": "ipython3",
   "version": "3.10.9"
  }
 },
 "nbformat": 4,
 "nbformat_minor": 5
}
